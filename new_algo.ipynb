{
 "cells": [
  {
   "cell_type": "code",
   "execution_count": 1,
   "id": "e9cae3ce",
   "metadata": {},
   "outputs": [],
   "source": [
    "import numpy as np\n",
    "import pandas as pd"
   ]
  },
  {
   "cell_type": "code",
   "execution_count": 2,
   "id": "74dd58d1",
   "metadata": {},
   "outputs": [],
   "source": [
    "class Hypergraph:\n",
    "    def __init__(self, v, e, vertex_names, edge_names, hg_matrix):\n",
    "        self.vertices = v\n",
    "        self.edges = e\n",
    "        self.vertex_names_list = vertex_names\n",
    "        self.edge_names_list = edge_names\n",
    "        self.colors_used = 0\n",
    "        self.sorted_status = False\n",
    "        self.hypergraph_matrix = hg_matrix\n",
    "        self.vertex_degrees = []\n",
    "        self.colors_list = []\n",
    "        self.vertex_indices = []\n",
    "        graph_coloring_completed = False\n",
    "        \n",
    "        for i in range (v):\n",
    "            self.colors_list.append(-1) \n",
    "            self.vertex_indices.append(i)\n",
    "            \n",
    "            \n",
    "    def return_hypergraph_matrix(self):\n",
    "        return self.hypergraph_matrix\n",
    "    \n",
    "    def return_vertex_names(self):\n",
    "        return self.vertex_names_list\n",
    "    \n",
    "    def return_edge_names(self):\n",
    "        return self.edge_names_list\n",
    "    \n",
    "    def return_colors_list(self):\n",
    "        return self.colors_list\n",
    "    \n",
    "    def return_degrees_list(self):\n",
    "        return self.vertex_degrees\n",
    "    \n",
    "    def return_entire_hypergraph(self):\n",
    "        return self.vertices, self.edges, self.sorted_status, self.vertex_indices, self.vertex_names_list , self.vertex_names_list, self.edge_names_list, self.colors_list, self.hypergraph_matrix\n",
    "    \n",
    "    def return_if_sorted(self):\n",
    "        return self.sorted_status\n",
    "    \n",
    "    def return_vertex_name(self, index):\n",
    "        return self.vertex_names_list[index]\n",
    "    \n",
    "    def return_hypergraph_dataframe(self):\n",
    "        df = pd.DataFrame()\n",
    "        data = self.hypergraph_matrix\n",
    "        df = pd.DataFrame(data, columns = self.edge_names_list, index = self.vertex_names_list) \n",
    "        return df\n",
    "    \n",
    "    def return_degree_of_vertex(self, index):\n",
    "        degree = 0\n",
    "        for value in range(self.edges):\n",
    "            if (self.hypergraph_matrix[index][value]):\n",
    "                degree +=1\n",
    "        return degree\n",
    "    \n",
    "    def store_degrees_of_all(self):\n",
    "        for vertex in range(self.vertices):\n",
    "            self.vertex_degrees.append(self.return_degree_of_vertex(vertex))\n",
    "            \n",
    "    def claim_sorted(self):\n",
    "        # Externally Declare the hypergraph to be sorted.\n",
    "        self.sorted_status = True\n",
    "    \n",
    "    def is_vertex_colored(self, vertex_i):\n",
    "        if(self.colors_list[vertex_i] == -1):\n",
    "            return False\n",
    "        else:\n",
    "            return True;\n",
    "        \n",
    "    def assign_color(self, vertex_i, color):\n",
    "        self.colors_list[vertex_i] = color\n",
    "        \n",
    "    def dot_prod(self, v_i, v_j):\n",
    "        l1=self.hypergraph_matrix[v_i]\n",
    "        l2=self.hypergraph_matrix[v_j]\n",
    "        \n",
    "        dot_product = 0\n",
    "        \n",
    "        for edge_val in range(self.edges):\n",
    "            dot_product += self.hypergraph_matrix[v_i][edge_val] * self.hypergraph_matrix[v_j][edge_val]\n",
    "        return dot_product\n",
    "    \n",
    "    def return_chromatic_number(self):\n",
    "        if(self.graph_coloring_completed):\n",
    "            return self.colors_used\n",
    "        else:\n",
    "            ## Graph uncolored\n",
    "            return -1\n",
    "        \n",
    "    def return_vertex_wise_colors(self):\n",
    "        \n",
    "        \n",
    "        data = { \"vertices\":self.vertex_names_list, \"Colors\" :self.colors_list }\n",
    "        df = pd.DataFrame(data)\n",
    "        return df\n",
    "        \n",
    "        \n",
    "        \n",
    "        \n",
    "    \n",
    "        \n",
    "            \n",
    "    \n",
    "    \n",
    "    \n",
    "            \n",
    "        \n",
    "    \n"
   ]
  },
  {
   "cell_type": "code",
   "execution_count": 3,
   "id": "24b1abec",
   "metadata": {},
   "outputs": [],
   "source": [
    "## Beautify his print statement by storing the values returned by the return-entire function and printing it properly\n",
    "def print_hypergraph(hg):\n",
    "    print(hg.return_entire_hypergraph())"
   ]
  },
  {
   "cell_type": "code",
   "execution_count": 4,
   "id": "f45d18a7",
   "metadata": {},
   "outputs": [],
   "source": [
    "def proper_coloring(hg):\n",
    "    if(hg.sorted_status == False):\n",
    "        hg.claim_sorted();\n",
    "    \n",
    "    for vertex_i in range(hg.vertices):\n",
    "        ##print(hg.hypergraph_matrix[vertex_i])\n",
    "        print(\"Checking vertex \", hg.return_vertex_name(vertex_i))\n",
    "        if(hg.is_vertex_colored(vertex_i) == False):\n",
    "            hg.colors_used += 1\n",
    "            hg.assign_color(vertex_i, hg.colors_used)\n",
    "            \n",
    "            ##Now looking for repeatables:\n",
    "            \n",
    "            ##repeatable_list = []\n",
    "            for vertex_j in range(vertex_i+1, hg.vertices):\n",
    "                print(\"Internal vertex \", hg.return_vertex_name(vertex_j))\n",
    "                if (hg.is_vertex_colored(vertex_j) == False):\n",
    "                    print(\"Uncolored.\")\n",
    "                    \n",
    "                    ## Checking if compatible\n",
    "                    if(hg.dot_prod(vertex_i, vertex_j) == 0):\n",
    "                        print(\"Appending.\")\n",
    "                        repeatable_list.append(vertex_j)\n",
    "                        \n",
    "                        \n",
    "                else:\n",
    "                    print(\"colored\")\n",
    "        \n",
    "        \n",
    "            print(repeatable_list)\n",
    "            print()\n",
    "        \n",
    "            if(len(repeatable_list) == 1):\n",
    "                next_vertex = repeatable_list[0]\n",
    "                hg1.assign_color(next_vertex, hg1.colors_used)\n",
    "            \n",
    "            elif(len(repeatable_list) > 1):\n",
    "                print(\"Multiple paths\")\n",
    "                next_vertex = repeatable_list[0]\n",
    "                hg1.assign_color(next_vertex, hg1.colors_used)\n",
    "                \n",
    "    hg.graph_coloring_completed = True               "
   ]
  },
  {
   "cell_type": "code",
   "execution_count": 23,
   "id": "96a294a7",
   "metadata": {},
   "outputs": [],
   "source": [
    "def proper_coloring_new(hg):\n",
    "    if(hg.sorted_status == False):\n",
    "        hg.claim_sorted();\n",
    "    \n",
    "    for vertex_i in range(hg.vertices):\n",
    "        ##print(hg.hypergraph_matrix[vertex_i])\n",
    "        ## print(\"Checking vertex \", hg.return_vertex_name(vertex_i))\n",
    "        if(hg.is_vertex_colored(vertex_i) == False):\n",
    "            hg.colors_used += 1\n",
    "            hg.assign_color(vertex_i, hg.colors_used)\n",
    "            current_colour_list = []\n",
    "            current_colour_list.append(vertex_i)\n",
    "            \n",
    "            ##Now looking for repeatables:\n",
    "            \n",
    "            for vertex_j in range(vertex_i+1, hg.vertices):\n",
    "                ## print(\"Internal vertex \", hg.return_vertex_name(vertex_j))\n",
    "                if (hg.is_vertex_colored(vertex_j) == False):\n",
    "                    ## print(\"Uncolored.\")\n",
    "                    for verticess in current_colour_list:\n",
    "                        repeatable_flag = True\n",
    "                        if hg.dot_prod(verticess, vertex_j) != 0:\n",
    "                            repeatable_flag = False\n",
    "                            break\n",
    "                    if repeatable_flag:\n",
    "                        hg.assign_color(vertex_j, hg.colors_used)      \n",
    "                        current_colour_list.append(vertex_j)\n",
    "                    \n",
    "                            \n",
    "                        \n",
    "                    \n",
    "                    ## Checking if compatible\n",
    "                    "
   ]
  },
  {
   "cell_type": "code",
   "execution_count": 24,
   "id": "b2d149cf",
   "metadata": {},
   "outputs": [],
   "source": [
    "hypergraph_matrix = [[1,1,1,0], [0,1,1,0],[0,0,1,1], [1,0,0,0], [0,0,0,1], [1,0,0,0]]\n",
    "number_vertices = 6\n",
    "number_edges = 4\n",
    "vertex_names = [\"DSA\", \"CP\", \"Machine Learning\", \"Flutter\", \"Graphics\", \"Web Development\"]\n",
    "edge_names = [\"Aditya\", \"Yash\", \"Siddhi\", \"Amay\"]"
   ]
  },
  {
   "cell_type": "code",
   "execution_count": null,
   "id": "2376e24b",
   "metadata": {},
   "outputs": [],
   "source": []
  },
  {
   "cell_type": "code",
   "execution_count": 25,
   "id": "9891be76",
   "metadata": {},
   "outputs": [],
   "source": [
    "hg1=Hypergraph(number_vertices, number_edges, vertex_names, edge_names, hypergraph_matrix)"
   ]
  },
  {
   "cell_type": "code",
   "execution_count": 26,
   "id": "868915fb",
   "metadata": {},
   "outputs": [
    {
     "name": "stdout",
     "output_type": "stream",
     "text": [
      "(6, 4, False, [0, 1, 2, 3, 4, 5], ['DSA', 'CP', 'Machine Learning', 'Flutter', 'Graphics', 'Web Development'], ['DSA', 'CP', 'Machine Learning', 'Flutter', 'Graphics', 'Web Development'], ['Aditya', 'Yash', 'Siddhi', 'Amay'], [-1, -1, -1, -1, -1, -1], [[1, 1, 1, 0], [0, 1, 1, 0], [0, 0, 1, 1], [1, 0, 0, 0], [0, 0, 0, 1], [1, 0, 0, 0]])\n"
     ]
    }
   ],
   "source": [
    "print_hypergraph(hg1)"
   ]
  },
  {
   "cell_type": "code",
   "execution_count": 27,
   "id": "3ce9fc0a",
   "metadata": {},
   "outputs": [
    {
     "name": "stdout",
     "output_type": "stream",
     "text": [
      "                  Aditya  Yash  Siddhi  Amay\n",
      "DSA                    1     1       1     0\n",
      "CP                     0     1       1     0\n",
      "Machine Learning       0     0       1     1\n",
      "Flutter                1     0       0     0\n",
      "Graphics               0     0       0     1\n",
      "Web Development        1     0       0     0\n"
     ]
    }
   ],
   "source": [
    "print(hg1.return_hypergraph_dataframe())"
   ]
  },
  {
   "cell_type": "code",
   "execution_count": 28,
   "id": "e3824b72",
   "metadata": {},
   "outputs": [],
   "source": [
    "proper_coloring_new(hg1)"
   ]
  },
  {
   "cell_type": "code",
   "execution_count": 29,
   "id": "b80f3f76",
   "metadata": {},
   "outputs": [
    {
     "name": "stdout",
     "output_type": "stream",
     "text": [
      "Checking vertex  DSA\n",
      "Checking vertex  CP\n",
      "Checking vertex  Machine Learning\n",
      "Checking vertex  Flutter\n",
      "Checking vertex  Graphics\n",
      "Checking vertex  Web Development\n"
     ]
    }
   ],
   "source": [
    "proper_coloring(hg1)"
   ]
  },
  {
   "cell_type": "code",
   "execution_count": 30,
   "id": "d7b2ceef",
   "metadata": {},
   "outputs": [
    {
     "data": {
      "text/plain": [
       "[1, 2, 3, 2, 1, 3]"
      ]
     },
     "execution_count": 30,
     "metadata": {},
     "output_type": "execute_result"
    }
   ],
   "source": [
    "hg1.return_colors_list()"
   ]
  },
  {
   "cell_type": "code",
   "execution_count": 31,
   "id": "7e5860ea",
   "metadata": {},
   "outputs": [
    {
     "data": {
      "text/plain": [
       "3"
      ]
     },
     "execution_count": 31,
     "metadata": {},
     "output_type": "execute_result"
    }
   ],
   "source": [
    "hg1.return_chromatic_number()"
   ]
  },
  {
   "cell_type": "code",
   "execution_count": 32,
   "id": "af60846d",
   "metadata": {},
   "outputs": [
    {
     "name": "stdout",
     "output_type": "stream",
     "text": [
      "           vertices  Colors\n",
      "0               DSA       1\n",
      "1                CP       2\n",
      "2  Machine Learning       3\n",
      "3           Flutter       2\n",
      "4          Graphics       1\n",
      "5   Web Development       3\n"
     ]
    }
   ],
   "source": [
    "print(hg1.return_vertex_wise_colors())"
   ]
  },
  {
   "cell_type": "code",
   "execution_count": 33,
   "id": "bcad4318",
   "metadata": {},
   "outputs": [],
   "source": [
    "hypergraph_matrix = [[1,0,1,0,0,0,0],[0,1,0,0,0,0,0],[0,0,0,0,0,1,1],[0,1,0,0,0,0,0],[1,0,0,0,0,0,0],[0,0,0,1,0,0,0], [0,0,0,0,1,0,1],[0,0,0,0,0,1,1],[0,0,0,0,1,1,1],[0,0,0,0,1,0,1],[0,0,0,0,0,0,0]]\n",
    "number_vertices = 11\n",
    "number_edges = 7\n",
    "vertex_names = [\"1\",\"2\",\"3\",\"4\",\"5\",\"6\",\"7\",\"8\",\"9\",\"10\",\"11\"]\n",
    "edge_names = [\"Aditya\", \"Yash\", \"Siddhi\", \"Amay\", \"Bail\", \"Raundal\", \"Dhabbu\"]"
   ]
  },
  {
   "cell_type": "code",
   "execution_count": 34,
   "id": "295defe5",
   "metadata": {},
   "outputs": [],
   "source": [
    "hg1=Hypergraph(number_vertices, number_edges, vertex_names, edge_names, hypergraph_matrix)"
   ]
  },
  {
   "cell_type": "code",
   "execution_count": 35,
   "id": "411f4a84",
   "metadata": {},
   "outputs": [
    {
     "name": "stdout",
     "output_type": "stream",
     "text": [
      "(11, 7, False, [0, 1, 2, 3, 4, 5, 6, 7, 8, 9, 10], ['1', '2', '3', '4', '5', '6', '7', '8', '9', '10', '11'], ['1', '2', '3', '4', '5', '6', '7', '8', '9', '10', '11'], ['Aditya', 'Yash', 'Siddhi', 'Amay', 'Bail', 'Raundal', 'Dhabbu'], [-1, -1, -1, -1, -1, -1, -1, -1, -1, -1, -1], [[1, 0, 1, 0, 0, 0, 0], [0, 1, 0, 0, 0, 0, 0], [0, 0, 0, 0, 0, 1, 1], [0, 1, 0, 0, 0, 0, 0], [1, 0, 0, 0, 0, 0, 0], [0, 0, 0, 1, 0, 0, 0], [0, 0, 0, 0, 1, 0, 1], [0, 0, 0, 0, 0, 1, 1], [0, 0, 0, 0, 1, 1, 1], [0, 0, 0, 0, 1, 0, 1], [0, 0, 0, 0, 0, 0, 0]])\n"
     ]
    }
   ],
   "source": [
    "print_hypergraph(hg1)"
   ]
  },
  {
   "cell_type": "code",
   "execution_count": 36,
   "id": "d6127003",
   "metadata": {},
   "outputs": [
    {
     "name": "stdout",
     "output_type": "stream",
     "text": [
      "    Aditya  Yash  Siddhi  Amay  Bail  Raundal  Dhabbu\n",
      "1        1     0       1     0     0        0       0\n",
      "2        0     1       0     0     0        0       0\n",
      "3        0     0       0     0     0        1       1\n",
      "4        0     1       0     0     0        0       0\n",
      "5        1     0       0     0     0        0       0\n",
      "6        0     0       0     1     0        0       0\n",
      "7        0     0       0     0     1        0       1\n",
      "8        0     0       0     0     0        1       1\n",
      "9        0     0       0     0     1        1       1\n",
      "10       0     0       0     0     1        0       1\n",
      "11       0     0       0     0     0        0       0\n"
     ]
    }
   ],
   "source": [
    "print(hg1.return_hypergraph_dataframe())"
   ]
  },
  {
   "cell_type": "code",
   "execution_count": 37,
   "id": "7c791c9c",
   "metadata": {},
   "outputs": [],
   "source": [
    "proper_coloring_new(hg1)"
   ]
  },
  {
   "cell_type": "code",
   "execution_count": 38,
   "id": "1da12dc9",
   "metadata": {},
   "outputs": [
    {
     "data": {
      "text/plain": [
       "[1, 1, 1, 2, 2, 1, 2, 3, 4, 5, 1]"
      ]
     },
     "execution_count": 38,
     "metadata": {},
     "output_type": "execute_result"
    }
   ],
   "source": [
    "hg1.return_colors_list()"
   ]
  },
  {
   "cell_type": "code",
   "execution_count": null,
   "id": "6a3158b9",
   "metadata": {},
   "outputs": [],
   "source": []
  }
 ],
 "metadata": {
  "kernelspec": {
   "display_name": "Python 3 (ipykernel)",
   "language": "python",
   "name": "python3"
  },
  "language_info": {
   "codemirror_mode": {
    "name": "ipython",
    "version": 3
   },
   "file_extension": ".py",
   "mimetype": "text/x-python",
   "name": "python",
   "nbconvert_exporter": "python",
   "pygments_lexer": "ipython3",
   "version": "3.11.5"
  }
 },
 "nbformat": 4,
 "nbformat_minor": 5
}
