{
  "cells": [
    {
      "cell_type": "code",
      "execution_count": null,
      "id": "e9cae3ce",
      "metadata": {
        "id": "e9cae3ce"
      },
      "outputs": [],
      "source": [
        "import numpy as np\n",
        "import pandas as pd"
      ]
    },
    {
      "cell_type": "code",
      "execution_count": null,
      "id": "74dd58d1",
      "metadata": {
        "id": "74dd58d1"
      },
      "outputs": [],
      "source": [
        "class Hypergraph:\n",
        "    def __init__(self, v, e, vertex_names, edge_names, hg_matrix):\n",
        "        self.vertices = v\n",
        "        self.edges = e\n",
        "        self.vertex_names_list = vertex_names\n",
        "        self.edge_names_list = edge_names\n",
        "        self.colors_used = 0\n",
        "        self.sorted_status = False\n",
        "        self.hypergraph_matrix = hg_matrix\n",
        "        self.vertex_degrees = []\n",
        "        self.colors_list = []\n",
        "        self.vertex_indices = []\n",
        "        graph_coloring_completed = False\n",
        "\n",
        "        for i in range (v):\n",
        "            self.colors_list.append(-1)\n",
        "            self.vertex_indices.append(i)\n",
        "\n",
        "\n",
        "    def return_hypergraph_matrix(self):\n",
        "        return self.hypergraph_matrix\n",
        "\n",
        "    def return_vertex_names(self):\n",
        "        return self.vertex_names_list\n",
        "\n",
        "    def return_edge_names(self):\n",
        "        return self.edge_names_list\n",
        "\n",
        "    def return_colors_list(self):\n",
        "        return self.colors_list\n",
        "\n",
        "    def return_degrees_list(self):\n",
        "        return self.vertex_degrees\n",
        "\n",
        "    def return_entire_hypergraph(self):\n",
        "        return self.vertices, self.edges, self.sorted_status, self.vertex_indices, self.vertex_names_list , self.vertex_names_list, self.edge_names_list, self.colors_list, self.hypergraph_matrix\n",
        "\n",
        "    def return_if_sorted(self):\n",
        "        return self.sorted_status\n",
        "\n",
        "    def return_vertex_name(self, index):\n",
        "        return self.vertex_names_list[index]\n",
        "\n",
        "    def return_hypergraph_dataframe(self):\n",
        "        df = pd.DataFrame()\n",
        "        data = self.hypergraph_matrix\n",
        "        df = pd.DataFrame(data, columns = self.edge_names_list, index = self.vertex_names_list)\n",
        "        return df\n",
        "\n",
        "    def return_degree_of_vertex(self, index):\n",
        "        degree = 0\n",
        "        for value in range(self.edges):\n",
        "            if (self.hypergraph_matrix[index][value]):\n",
        "                degree +=1\n",
        "        return degree\n",
        "\n",
        "    def store_degrees_of_all(self):\n",
        "        for vertex in range(self.vertices):\n",
        "            self.vertex_degrees.append(self.return_degree_of_vertex(vertex))\n",
        "\n",
        "    def claim_sorted(self):\n",
        "        # Externally Declare the hypergraph to be sorted.\n",
        "        self.sorted_status = True\n",
        "\n",
        "    def is_vertex_colored(self, vertex_i):\n",
        "        if(self.colors_list[vertex_i] == -1):\n",
        "            return False\n",
        "        else:\n",
        "            return True;\n",
        "\n",
        "    def assign_color(self, vertex_i, color):\n",
        "        self.colors_list[vertex_i] = color\n",
        "\n",
        "    def dot_prod(self, v_i, v_j):\n",
        "        l1=self.hypergraph_matrix[v_i]\n",
        "        l2=self.hypergraph_matrix[v_j]\n",
        "\n",
        "        dot_product = 0\n",
        "\n",
        "        for edge_val in range(self.edges):\n",
        "            dot_product += self.hypergraph_matrix[v_i][edge_val] * self.hypergraph_matrix[v_j][edge_val]\n",
        "        return dot_product\n",
        "\n",
        "    def return_chromatic_number(self):\n",
        "        if(self.graph_coloring_completed):\n",
        "            return self.colors_used\n",
        "        else:\n",
        "            ## Graph uncolored\n",
        "            return -1\n",
        "\n",
        "    def return_vertex_wise_colors(self):\n",
        "\n",
        "\n",
        "        data = { \"vertices\":self.vertex_names_list, \"Colors\" :self.colors_list }\n",
        "        df = pd.DataFrame(data)\n",
        "        return df\n",
        "\n",
        "\n",
        "\n",
        "\n",
        "\n",
        "#Sorting vertices\n",
        "    def sort_vertex_by_degree(self):\n",
        "        vertex_degree_dict = {}\n",
        "\n",
        "        for vertex_index in range(self.vertices):\n",
        "          vertex_name = self.vertex_names_list[vertex_index]\n",
        "          degree = self.return_degree_of_vertex(vertex_index)\n",
        "          vertex_degree_dict[vertex_name] = degree\n",
        "\n",
        "        sorted_vertices_by_degrees = sorted(vertex_degree_dict.items(), key=lambda x:x[1], reverse=True)\n",
        "        # sorted_vertex_degree_dict = dict(sorted_vertices_by_degrees)\n",
        "        return sorted_vertices_by_degrees\n",
        "\n",
        "\n"
      ]
    },
    {
      "cell_type": "code",
      "execution_count": null,
      "id": "24b1abec",
      "metadata": {
        "id": "24b1abec"
      },
      "outputs": [],
      "source": [
        "## Beautify this print statement by storing the values returned by the return-entire function and printing it properly\n",
        "def print_hypergraph(hg):\n",
        "    print(hg.return_entire_hypergraph())"
      ]
    },
    {
      "cell_type": "code",
      "execution_count": null,
      "id": "f45d18a7",
      "metadata": {
        "id": "f45d18a7"
      },
      "outputs": [],
      "source": [
        "def proper_coloring(hg):\n",
        "    if(hg.sorted_status == False):\n",
        "        hg.claim_sorted();\n",
        "\n",
        "    for vertex_i in range(hg.vertices):\n",
        "        ##print(hg.hypergraph_matrix[vertex_i])\n",
        "        print(\"Checking vertex \", hg.return_vertex_name(vertex_i))\n",
        "        if(hg.is_vertex_colored(vertex_i) == False):\n",
        "            hg.colors_used += 1\n",
        "            hg.assign_color(vertex_i, hg.colors_used)\n",
        "\n",
        "            ##Now looking for repeatables:\n",
        "\n",
        "            repeatable_list = []\n",
        "            for vertex_j in range(vertex_i+1, hg.vertices):\n",
        "                print(\"Internal vertex \", hg.return_vertex_name(vertex_j))\n",
        "                if (hg.is_vertex_colored(vertex_j) == False):\n",
        "                    print(\"Uncolored\")\n",
        "\n",
        "                    ## Checking if compatible\n",
        "                    if(hg.dot_prod(vertex_i, vertex_j) == 0):\n",
        "                        print(\"appending\")\n",
        "                        repeatable_list.append(vertex_j)\n",
        "\n",
        "\n",
        "                else:\n",
        "                    print(\"colored\")\n",
        "\n",
        "\n",
        "            print(repeatable_list)\n",
        "            print()\n",
        "\n",
        "            if(len(repeatable_list) == 1):\n",
        "                next_vertex = repeatable_list[0]\n",
        "                hg1.assign_color(next_vertex, hg1.colors_used)\n",
        "\n",
        "            elif(len(repeatable_list) > 1):\n",
        "                print(\"Multiple paths\")\n",
        "                next_vertex = repeatable_list[0]\n",
        "                hg1.assign_color(next_vertex, hg1.colors_used)\n",
        "\n",
        "    hg.graph_coloring_completed = True\n",
        "\n",
        "\n",
        "\n",
        "\n",
        "\n",
        "\n",
        "\n"
      ]
    },
    {
      "cell_type": "code",
      "execution_count": null,
      "id": "b2d149cf",
      "metadata": {
        "id": "b2d149cf"
      },
      "outputs": [],
      "source": [
        "hypergraph_matrix = [[1,1,1,0], [0,1,1,0],[0,0,1,1], [1,0,0,0], [0,0,0,1], [1,0,0,0]]\n",
        "number_vertices = 6\n",
        "number_edges = 4\n",
        "vertex_names = [\"DSA\", \"CP\", \"Machine Learning\", \"Flutter\", \"Graphics\", \"Web Development\"]\n",
        "edge_names = [\"Aditya\", \"Yash\", \"Siddhi\", \"Amay\"]"
      ]
    },
    {
      "cell_type": "code",
      "execution_count": null,
      "id": "2376e24b",
      "metadata": {
        "id": "2376e24b"
      },
      "outputs": [],
      "source": []
    },
    {
      "cell_type": "code",
      "execution_count": null,
      "id": "9891be76",
      "metadata": {
        "id": "9891be76"
      },
      "outputs": [],
      "source": [
        "hg1=Hypergraph(number_vertices, number_edges, vertex_names, edge_names, hypergraph_matrix)"
      ]
    },
    {
      "cell_type": "code",
      "execution_count": null,
      "id": "868915fb",
      "metadata": {
        "colab": {
          "base_uri": "https://localhost:8080/"
        },
        "id": "868915fb",
        "outputId": "ced50495-a3c2-4fdf-c5e5-bcd467b3903f"
      },
      "outputs": [
        {
          "output_type": "stream",
          "name": "stdout",
          "text": [
            "(6, 4, False, [0, 1, 2, 3, 4, 5], ['DSA', 'CP', 'Machine Learning', 'Flutter', 'Graphics', 'Web Development'], ['DSA', 'CP', 'Machine Learning', 'Flutter', 'Graphics', 'Web Development'], ['Aditya', 'Yash', 'Siddhi', 'Amay'], [-1, -1, -1, -1, -1, -1], [[1, 1, 1, 0], [0, 1, 1, 0], [0, 0, 1, 1], [1, 0, 0, 0], [0, 0, 0, 1], [1, 0, 0, 0]])\n"
          ]
        }
      ],
      "source": [
        "print_hypergraph(hg1)"
      ]
    },
    {
      "cell_type": "code",
      "execution_count": null,
      "id": "3ce9fc0a",
      "metadata": {
        "colab": {
          "base_uri": "https://localhost:8080/"
        },
        "id": "3ce9fc0a",
        "outputId": "aae83e3b-bfff-4bbe-9dec-f3c6f11f83ea"
      },
      "outputs": [
        {
          "output_type": "stream",
          "name": "stdout",
          "text": [
            "                  Aditya  Yash  Siddhi  Amay\n",
            "DSA                    1     1       1     0\n",
            "CP                     0     1       1     0\n",
            "Machine Learning       0     0       1     1\n",
            "Flutter                1     0       0     0\n",
            "Graphics               0     0       0     1\n",
            "Web Development        1     0       0     0\n"
          ]
        }
      ],
      "source": [
        "print(hg1.return_hypergraph_dataframe())"
      ]
    },
    {
      "cell_type": "code",
      "execution_count": null,
      "id": "b80f3f76",
      "metadata": {
        "colab": {
          "base_uri": "https://localhost:8080/"
        },
        "id": "b80f3f76",
        "outputId": "56c83c87-4fc6-4c60-9a31-d61dd5fcb994"
      },
      "outputs": [
        {
          "output_type": "stream",
          "name": "stdout",
          "text": [
            "Checking vertex  DSA\n",
            "Internal vertex  CP\n",
            "Uncolored\n",
            "Internal vertex  Machine Learning\n",
            "Uncolored\n",
            "Internal vertex  Flutter\n",
            "Uncolored\n",
            "Internal vertex  Graphics\n",
            "Uncolored\n",
            "appending\n",
            "Internal vertex  Web Development\n",
            "Uncolored\n",
            "[4]\n",
            "\n",
            "Checking vertex  CP\n",
            "Internal vertex  Machine Learning\n",
            "Uncolored\n",
            "Internal vertex  Flutter\n",
            "Uncolored\n",
            "appending\n",
            "Internal vertex  Graphics\n",
            "colored\n",
            "Internal vertex  Web Development\n",
            "Uncolored\n",
            "appending\n",
            "[3, 5]\n",
            "\n",
            "Multiple paths\n",
            "Checking vertex  Machine Learning\n",
            "Internal vertex  Flutter\n",
            "colored\n",
            "Internal vertex  Graphics\n",
            "colored\n",
            "Internal vertex  Web Development\n",
            "Uncolored\n",
            "appending\n",
            "[5]\n",
            "\n",
            "Checking vertex  Flutter\n",
            "Checking vertex  Graphics\n",
            "Checking vertex  Web Development\n"
          ]
        }
      ],
      "source": [
        "proper_coloring(hg1)"
      ]
    },
    {
      "cell_type": "code",
      "execution_count": null,
      "id": "d7b2ceef",
      "metadata": {
        "colab": {
          "base_uri": "https://localhost:8080/"
        },
        "id": "d7b2ceef",
        "outputId": "005a79f6-c72e-4622-b30c-ff19217f09be"
      },
      "outputs": [
        {
          "output_type": "execute_result",
          "data": {
            "text/plain": [
              "[1, 2, 3, 2, 1, 3]"
            ]
          },
          "metadata": {},
          "execution_count": 10
        }
      ],
      "source": [
        "hg1.return_colors_list()"
      ]
    },
    {
      "cell_type": "code",
      "execution_count": null,
      "id": "7e5860ea",
      "metadata": {
        "colab": {
          "base_uri": "https://localhost:8080/"
        },
        "id": "7e5860ea",
        "outputId": "ca393330-92b9-4b71-d0d0-31ce6d56f645"
      },
      "outputs": [
        {
          "output_type": "execute_result",
          "data": {
            "text/plain": [
              "3"
            ]
          },
          "metadata": {},
          "execution_count": 11
        }
      ],
      "source": [
        "hg1.return_chromatic_number()"
      ]
    },
    {
      "cell_type": "code",
      "execution_count": null,
      "id": "af60846d",
      "metadata": {
        "colab": {
          "base_uri": "https://localhost:8080/"
        },
        "id": "af60846d",
        "outputId": "a4088b54-812a-4d73-db37-c8c5ef592c07"
      },
      "outputs": [
        {
          "output_type": "stream",
          "name": "stdout",
          "text": [
            "           vertices  Colors\n",
            "0               DSA       1\n",
            "1                CP       2\n",
            "2  Machine Learning       3\n",
            "3           Flutter       2\n",
            "4          Graphics       1\n",
            "5   Web Development       3\n"
          ]
        }
      ],
      "source": [
        "print(hg1.return_vertex_wise_colors())"
      ]
    },
    {
      "cell_type": "code",
      "execution_count": null,
      "id": "bcad4318",
      "metadata": {
        "colab": {
          "base_uri": "https://localhost:8080/"
        },
        "id": "bcad4318",
        "outputId": "c0ea17ec-1d3e-4df6-eb82-1fb03909ce0e"
      },
      "outputs": [
        {
          "output_type": "stream",
          "name": "stdout",
          "text": [
            "[[0, 1, 1], [0, 0, 1], [0, 1, 1]]\n"
          ]
        }
      ],
      "source": [
        "import random\n",
        "a=[]\n",
        "for i in range(1,4):\n",
        "  l=[]\n",
        "  for j in range(1,4):\n",
        "    l.append(random.choice([0,1]))\n",
        "  a.append(l)\n",
        "print(a)"
      ]
    },
    {
      "cell_type": "code",
      "source": [
        "all_hg = []"
      ],
      "metadata": {
        "id": "19mI4dBH-Fyy"
      },
      "id": "19mI4dBH-Fyy",
      "execution_count": null,
      "outputs": []
    },
    {
      "cell_type": "code",
      "source": [
        "def make_all(size, array, index):\n",
        "  if(index == size):\n",
        "    return array\n",
        "  else:\n",
        "    a1 = array.copy()\n",
        "    a2 = array.copy()\n",
        "    a1[index] = 0\n",
        "    a2[index] = 1\n",
        "    all_hg.append( make_all(a1))\n",
        "    all_hg.append( make_all(a2))\n",
        "\n",
        "\n"
      ],
      "metadata": {
        "id": "fpSlj4fH7xg3"
      },
      "id": "fpSlj4fH7xg3",
      "execution_count": null,
      "outputs": []
    },
    {
      "cell_type": "code",
      "source": [],
      "metadata": {
        "id": "twQWpC84BTVU"
      },
      "id": "twQWpC84BTVU",
      "execution_count": null,
      "outputs": []
    }
  ],
  "metadata": {
    "kernelspec": {
      "display_name": "Python 3 (ipykernel)",
      "language": "python",
      "name": "python3"
    },
    "language_info": {
      "codemirror_mode": {
        "name": "ipython",
        "version": 3
      },
      "file_extension": ".py",
      "mimetype": "text/x-python",
      "name": "python",
      "nbconvert_exporter": "python",
      "pygments_lexer": "ipython3",
      "version": "3.9.5"
    },
    "colab": {
      "provenance": []
    }
  },
  "nbformat": 4,
  "nbformat_minor": 5
}