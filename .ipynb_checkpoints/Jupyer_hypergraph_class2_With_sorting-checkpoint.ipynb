{
 "cells": [
  {
   "cell_type": "code",
   "execution_count": 1,
   "id": "e9cae3ce",
   "metadata": {},
   "outputs": [],
   "source": [
    "import numpy as np\n",
    "import pandas as pd"
   ]
  },
  {
   "cell_type": "code",
   "execution_count": 2,
   "id": "74dd58d1",
   "metadata": {},
   "outputs": [],
   "source": [
    "class Hypergraph:\n",
    "    def __init__(self, v, e, vertex_names, edge_names, hg_matrix):\n",
    "        self.vertices = v\n",
    "        self.edges = e\n",
    "        self.vertex_names_list = vertex_names\n",
    "        self.edge_names_list = edge_names\n",
    "        self.colors_used = 0\n",
    "        self.sorted_status = False\n",
    "        self.hypergraph_matrix = hg_matrix\n",
    "        self.vertex_degrees = []\n",
    "        self.colors_list = []\n",
    "        self.vertex_indices = []\n",
    "        \n",
    "        for i in range (v):\n",
    "            self.colors_list.append(-1) \n",
    "            self.vertex_indices.append(i)\n",
    "            \n",
    "            \n",
    "    def return_hypergraph_matrix(self):\n",
    "        return self.hypergraph_matrix\n",
    "    \n",
    "    def return_vertex_names(self):\n",
    "        return self.vertex_names_list\n",
    "    \n",
    "    def return_edge_names(self):\n",
    "        return self.edge_names_list\n",
    "    \n",
    "    def return_colors_list(self):\n",
    "        return self.colors_list\n",
    "    \n",
    "    def return_degrees_list(self):\n",
    "        return self.vertex_degrees\n",
    "    \n",
    "    def return_entire_hypergraph(self):\n",
    "        return self.vertices, self.edges, self.sorted_status, self.vertex_indices, self.vertex_names_list , self.vertex_names_list, self.edge_names_list, self.colors_list, self.hypergraph_matrix\n",
    "    \n",
    "    def return_if_sorted(self):\n",
    "        return self.sorted_status\n",
    "    \n",
    "    def return_vertex_name(self, index):\n",
    "        return self.vertex_names_list[index]\n",
    "    \n",
    "    def return_hypergraph_dataframe(self):\n",
    "        df = pd.DataFrame()\n",
    "        data = self.hypergraph_matrix\n",
    "        df = pd.DataFrame(data, columns = self.edge_names_list, index = self.vertex_names_list) \n",
    "        return df\n",
    "    \n",
    "    def return_degree_of_vertex(self, index):\n",
    "        degree = 0\n",
    "        for value in range(self.edges):\n",
    "            if (self.hypergraph_matrix[index][value]):\n",
    "                degree +=1\n",
    "        return degree\n",
    "    \n",
    "    def store_degrees_of_all(self):\n",
    "        for vertex in range(self.vertices):\n",
    "            self.vertex_degrees.append(self.return_degree_of_vertex(vertex))\n",
    "            \n",
    "    \n",
    "    \n",
    "    \n",
    "            \n",
    "        \n",
    "    \n"
   ]
  },
  {
   "cell_type": "code",
   "execution_count": null,
   "id": "24b1abec",
   "metadata": {},
   "outputs": [],
   "source": []
  },
  {
   "cell_type": "code",
   "execution_count": 3,
   "id": "b2d149cf",
   "metadata": {},
   "outputs": [],
   "source": [
    "hypergraph_matrix = [[1,1,1,0], [0,1,1,0],[0,0,1,1], [1,0,0,0], [0,0,0,1], [1,0,0,0]]\n",
    "number_vertices = 6\n",
    "number_edges = 4\n",
    "vertex_names = [\"DSA\", \"CP\", \"Machine Learning\", \"Flutter\", \"Graphics\", \"Web Development\"]\n",
    "edge_names = [\"Aditya\", \"Yash\", \"Siddhi\", \"Amay\"]"
   ]
  },
  {
   "cell_type": "code",
   "execution_count": null,
   "id": "2376e24b",
   "metadata": {},
   "outputs": [],
   "source": []
  },
  {
   "cell_type": "code",
   "execution_count": 4,
   "id": "9891be76",
   "metadata": {},
   "outputs": [],
   "source": [
    "hg1=Hypergraph(number_vertices, number_edges, vertex_names, edge_names, hypergraph_matrix)"
   ]
  },
  {
   "cell_type": "code",
   "execution_count": 5,
   "id": "5dfb248a",
   "metadata": {},
   "outputs": [
    {
     "name": "stdout",
     "output_type": "stream",
     "text": [
      "[[1, 1, 1, 0], [0, 1, 1, 0], [0, 0, 1, 1], [1, 0, 0, 0], [0, 0, 0, 1], [1, 0, 0, 0]]\n"
     ]
    }
   ],
   "source": [
    "print(hg1.return_hypergraph_matrix())"
   ]
  },
  {
   "cell_type": "code",
   "execution_count": 6,
   "id": "dbae4979",
   "metadata": {},
   "outputs": [
    {
     "name": "stdout",
     "output_type": "stream",
     "text": [
      "['DSA', 'CP', 'Machine Learning', 'Flutter', 'Graphics', 'Web Development']\n"
     ]
    }
   ],
   "source": [
    "print(hg1.return_vertex_names())"
   ]
  },
  {
   "cell_type": "code",
   "execution_count": 7,
   "id": "ea9ac484",
   "metadata": {},
   "outputs": [
    {
     "name": "stdout",
     "output_type": "stream",
     "text": [
      "['Aditya', 'Yash', 'Siddhi', 'Amay']\n"
     ]
    }
   ],
   "source": [
    "print(hg1.return_edge_names())"
   ]
  },
  {
   "cell_type": "code",
   "execution_count": 8,
   "id": "ef15bc32",
   "metadata": {},
   "outputs": [
    {
     "name": "stdout",
     "output_type": "stream",
     "text": [
      "[-1, -1, -1, -1, -1, -1]\n"
     ]
    }
   ],
   "source": [
    "print(hg1.return_colors_list())"
   ]
  },
  {
   "cell_type": "code",
   "execution_count": 9,
   "id": "f705d807",
   "metadata": {},
   "outputs": [
    {
     "name": "stdout",
     "output_type": "stream",
     "text": [
      "False\n"
     ]
    }
   ],
   "source": [
    "print(hg1.return_if_sorted())"
   ]
  },
  {
   "cell_type": "code",
   "execution_count": 10,
   "id": "df2f756b",
   "metadata": {},
   "outputs": [
    {
     "name": "stdout",
     "output_type": "stream",
     "text": [
      "(6, 4, False, [0, 1, 2, 3, 4, 5], ['DSA', 'CP', 'Machine Learning', 'Flutter', 'Graphics', 'Web Development'], ['DSA', 'CP', 'Machine Learning', 'Flutter', 'Graphics', 'Web Development'], ['Aditya', 'Yash', 'Siddhi', 'Amay'], [-1, -1, -1, -1, -1, -1], [[1, 1, 1, 0], [0, 1, 1, 0], [0, 0, 1, 1], [1, 0, 0, 0], [0, 0, 0, 1], [1, 0, 0, 0]])\n"
     ]
    }
   ],
   "source": [
    "print(hg1.return_entire_hypergraph())"
   ]
  },
  {
   "cell_type": "code",
   "execution_count": 11,
   "id": "988278ba",
   "metadata": {},
   "outputs": [
    {
     "name": "stdout",
     "output_type": "stream",
     "text": [
      "Flutter\n"
     ]
    }
   ],
   "source": [
    "print(hg1.return_vertex_name(3))"
   ]
  },
  {
   "cell_type": "code",
   "execution_count": 12,
   "id": "d23c1c22",
   "metadata": {},
   "outputs": [
    {
     "name": "stdout",
     "output_type": "stream",
     "text": [
      "[0, 1, 2, 3, 4, 5]\n"
     ]
    }
   ],
   "source": [
    "print(hg1.vertex_indices)"
   ]
  },
  {
   "cell_type": "code",
   "execution_count": 13,
   "id": "3ce9fc0a",
   "metadata": {},
   "outputs": [
    {
     "name": "stdout",
     "output_type": "stream",
     "text": [
      "                  Aditya  Yash  Siddhi  Amay\n",
      "DSA                    1     1       1     0\n",
      "CP                     0     1       1     0\n",
      "Machine Learning       0     0       1     1\n",
      "Flutter                1     0       0     0\n",
      "Graphics               0     0       0     1\n",
      "Web Development        1     0       0     0\n"
     ]
    }
   ],
   "source": [
    "print(hg1.return_hypergraph_dataframe())"
   ]
  },
  {
   "cell_type": "code",
   "execution_count": null,
   "id": "ba0298e3",
   "metadata": {},
   "outputs": [],
   "source": []
  },
  {
   "cell_type": "code",
   "execution_count": 14,
   "id": "ba9437eb",
   "metadata": {},
   "outputs": [
    {
     "name": "stdout",
     "output_type": "stream",
     "text": [
      "3\n"
     ]
    }
   ],
   "source": [
    "print(hg1.return_degree_of_vertex(0))"
   ]
  },
  {
   "cell_type": "code",
   "execution_count": 15,
   "id": "6e5856ce",
   "metadata": {},
   "outputs": [
    {
     "name": "stdout",
     "output_type": "stream",
     "text": [
      "[3, 2, 2, 1, 1, 1]\n"
     ]
    }
   ],
   "source": [
    "hg1.store_degrees_of_all()\n",
    "print(hg1.return_degrees_list())"
   ]
  },
  {
   "cell_type": "code",
   "execution_count": null,
   "id": "da35b6a8",
   "metadata": {},
   "outputs": [],
   "source": []
  },
  {
   "cell_type": "code",
   "execution_count": null,
   "id": "3b55620d",
   "metadata": {},
   "outputs": [],
   "source": []
  },
  {
   "cell_type": "code",
   "execution_count": null,
   "id": "7c4497d0",
   "metadata": {},
   "outputs": [],
   "source": []
  }
 ],
 "metadata": {
  "kernelspec": {
   "display_name": "Python 3 (ipykernel)",
   "language": "python",
   "name": "python3"
  },
  "language_info": {
   "codemirror_mode": {
    "name": "ipython",
    "version": 3
   },
   "file_extension": ".py",
   "mimetype": "text/x-python",
   "name": "python",
   "nbconvert_exporter": "python",
   "pygments_lexer": "ipython3",
   "version": "3.9.5"
  }
 },
 "nbformat": 4,
 "nbformat_minor": 5
}
