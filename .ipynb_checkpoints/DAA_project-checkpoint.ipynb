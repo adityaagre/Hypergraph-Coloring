{
 "cells": [
  {
   "cell_type": "code",
   "execution_count": 178,
   "id": "541def3a",
   "metadata": {},
   "outputs": [
    {
     "name": "stdout",
     "output_type": "stream",
     "text": [
      "\n",
      "DAA Mini-Project\n",
      "\n",
      "LECTURE SCHEDULING USING HYPERGRAPH COLORING\n",
      "\n",
      "The aim is to schedule lecture timings for a given group of students\n"
     ]
    }
   ],
   "source": [
    "## TYCOA6\n",
    "## TYCOA32\n",
    "## TYCOA17\n",
    "## TYCOA32\n",
    "\n",
    "print(\"\\nDAA Mini-Project\")\n",
    "print()\n",
    "print(\"LECTURE SCHEDULING USING HYPERGRAPH COLORING\")\n",
    "print(\"\\nThe aim is to schedule lecture timings for a given group of students\")"
   ]
  },
  {
   "cell_type": "code",
   "execution_count": 179,
   "id": "e9cae3ce",
   "metadata": {},
   "outputs": [],
   "source": [
    "## Making necesary Library imports.\n",
    "import numpy as np\n",
    "import pandas as pd"
   ]
  },
  {
   "cell_type": "code",
   "execution_count": 180,
   "id": "74dd58d1",
   "metadata": {},
   "outputs": [],
   "source": [
    "## Defining Hypergraph class.\n",
    "class Hypergraph:\n",
    "    def __init__(self, v, e, vertex_names, edge_names, hg_matrix):\n",
    "        self.vertices = v\n",
    "        self.edges = e\n",
    "        self.vertex_names_list = vertex_names\n",
    "        self.edge_names_list = edge_names\n",
    "        self.colors_used = 0\n",
    "        self.sorted_status = False\n",
    "        self.hypergraph_matrix = hg_matrix\n",
    "        self.vertex_degrees = []\n",
    "        self.colors_list = []\n",
    "        self.vertex_indices = []\n",
    "        graph_coloring_completed = False\n",
    "        \n",
    "        for i in range (v):\n",
    "            self.colors_list.append(-1) \n",
    "            self.vertex_indices.append(i)\n",
    "            \n",
    "            \n",
    "    def return_hypergraph_matrix(self):\n",
    "        return self.hypergraph_matrix\n",
    "    \n",
    "    def return_vertex_names(self):\n",
    "        return self.vertex_names_list\n",
    "    \n",
    "    def return_edge_names(self):\n",
    "        return self.edge_names_list\n",
    "    \n",
    "    def return_colors_list(self):\n",
    "        return self.colors_list\n",
    "    \n",
    "    def return_degrees_list(self):\n",
    "        return self.vertex_degrees\n",
    "    \n",
    "    def return_entire_hypergraph(self):\n",
    "        return self.vertices, self.edges, self.sorted_status, self.vertex_indices, self.vertex_names_list , self.vertex_names_list, self.edge_names_list, self.colors_list, self.hypergraph_matrix\n",
    "    \n",
    "    def return_if_sorted(self):\n",
    "        return self.sorted_status\n",
    "    \n",
    "    def return_vertex_name(self, index):\n",
    "        return self.vertex_names_list[index]\n",
    "    \n",
    "    def return_hypergraph_dataframe(self):\n",
    "        df = pd.DataFrame()\n",
    "        data = self.hypergraph_matrix\n",
    "        df = pd.DataFrame(data, columns = self.edge_names_list, index = self.vertex_names_list) \n",
    "        return df\n",
    "    \n",
    "    def return_degree_of_vertex(self, index):\n",
    "        degree = 0\n",
    "        for value in range(self.edges):\n",
    "            if (self.hypergraph_matrix[index][value]):\n",
    "                degree +=1\n",
    "        return degree\n",
    "    \n",
    "    def store_degrees_of_all(self):\n",
    "        for vertex in range(self.vertices):\n",
    "            self.vertex_degrees.append(self.return_degree_of_vertex(vertex))\n",
    "            \n",
    "    def claim_sorted(self):\n",
    "        # Externally Declare the hypergraph to be sorted.\n",
    "        self.sorted_status = True\n",
    "    \n",
    "    def is_vertex_colored(self, vertex_i):\n",
    "        if(self.colors_list[vertex_i] == -1):\n",
    "            return False\n",
    "        else:\n",
    "            return True;\n",
    "        \n",
    "    def assign_color(self, vertex_i, color):\n",
    "        self.colors_list[vertex_i] = color\n",
    "        \n",
    "    def dot_prod(self, v_i, v_j):\n",
    "        l1=self.hypergraph_matrix[v_i]\n",
    "        l2=self.hypergraph_matrix[v_j]\n",
    "        \n",
    "        dot_product = 0\n",
    "        \n",
    "        for edge_val in range(self.edges):\n",
    "            dot_product += self.hypergraph_matrix[v_i][edge_val] * self.hypergraph_matrix[v_j][edge_val]\n",
    "        return dot_product\n",
    "    \n",
    "    def return_chromatic_number(self):\n",
    "        if(self.graph_coloring_completed):\n",
    "            return self.colors_used\n",
    "        else:\n",
    "            ## Graph uncolored\n",
    "            return -1\n",
    "        \n",
    "    def return_vertex_wise_colors(self):\n",
    "        data = { \"Vertices\":self.vertex_names_list, \"Colors\" :self.colors_list }\n",
    "        df = pd.DataFrame(data)\n",
    "        return df\n"
   ]
  },
  {
   "cell_type": "code",
   "execution_count": 181,
   "id": "32a72463",
   "metadata": {},
   "outputs": [],
   "source": [
    "## If we provide starting time of the day, this function provides best way to schedule all the lectures.\n",
    "def lecture_timings(hg, Day_starting_time):\n",
    "    \n",
    "    time=[x+Day_starting_time-1 for x in hg.colors_list]\n",
    "    \n",
    "    data = { \"Vertices\":hg.vertex_names_list, \"Timings(am)\" :time }\n",
    "    df = pd.DataFrame(data)\n",
    "    return df"
   ]
  },
  {
   "cell_type": "code",
   "execution_count": 182,
   "id": "24b1abec",
   "metadata": {},
   "outputs": [],
   "source": [
    "## Func to print hypergraph\n",
    "def print_hypergraph(hg):\n",
    "    print(hg.return_entire_hypergraph())"
   ]
  },
  {
   "cell_type": "code",
   "execution_count": 183,
   "id": "607df62f",
   "metadata": {},
   "outputs": [],
   "source": [
    "## Coloring Function\n",
    "def proper_coloring(hg):\n",
    "    if(hg.sorted_status == False):\n",
    "        hg.claim_sorted();\n",
    "    \n",
    "    for vertex_i in range(hg.vertices):\n",
    "        ##print(hg.hypergraph_matrix[vertex_i])\n",
    "        print(\"Checking vertex \", hg.return_vertex_name(vertex_i))\n",
    "        if(hg.is_vertex_colored(vertex_i) == False):\n",
    "            hg.colors_used += 1\n",
    "            hg.assign_color(vertex_i, hg.colors_used)\n",
    "            \n",
    "            ##Now looking for repeatables:\n",
    "            repeatable_list = []\n",
    "            for vertex_j in range(vertex_i+1, hg.vertices):\n",
    "                print(\"Internal vertex \", hg.return_vertex_name(vertex_j))\n",
    "                if (hg.is_vertex_colored(vertex_j) == False):\n",
    "                    print(\"Uncoloed\")\n",
    "                    \n",
    "                    ## Checking if compatible\n",
    "                    if(hg.dot_prod(vertex_i, vertex_j) == 0):\n",
    "                        print(\"appending\")\n",
    "                        repeatable_list.append(vertex_j)         \n",
    "                        \n",
    "                else:\n",
    "                    print(\"colored\")\n",
    "            print(repeatable_list)\n",
    "            print()\n",
    "        \n",
    "            if(len(repeatable_list) == 1):\n",
    "                next_vertex = repeatable_list[0]\n",
    "                hg1.assign_color(next_vertex, hg1.colors_used)\n",
    "            \n",
    "            elif(len(repeatable_list) > 1):\n",
    "                next_vertex = repeatable_list[0]\n",
    "                hg1.assign_color(next_vertex, hg1.colors_used)\n",
    "                \n",
    "    hg.graph_coloring_completed = True"
   ]
  },
  {
   "cell_type": "code",
   "execution_count": 184,
   "id": "b2d149cf",
   "metadata": {},
   "outputs": [],
   "source": [
    "## Creating a hypergraph object\n",
    "hypergraph_matrix = [[1,1,1,0], [0,1,1,0],[0,0,1,1], [1,0,0,0], [0,0,0,1], [1,0,0,0]]\n",
    "number_vertices = 6\n",
    "number_edges = 4\n",
    "vertex_names = [\"DSA\", \"CP\", \"Machine Learning\", \"Flutter\", \"Graphics\", \"Web Development\"]\n",
    "edge_names = [\"Aditya\", \"Yash\", \"Siddhi\", \"Amay\"]"
   ]
  },
  {
   "cell_type": "code",
   "execution_count": 185,
   "id": "9891be76",
   "metadata": {},
   "outputs": [],
   "source": [
    "hg1=Hypergraph(number_vertices, number_edges, vertex_names, edge_names, hypergraph_matrix)"
   ]
  },
  {
   "cell_type": "code",
   "execution_count": 186,
   "id": "3ce9fc0a",
   "metadata": {},
   "outputs": [
    {
     "name": "stdout",
     "output_type": "stream",
     "text": [
      "                  Aditya  Yash  Siddhi  Amay\n",
      "DSA                    1     1       1     0\n",
      "CP                     0     1       1     0\n",
      "Machine Learning       0     0       1     1\n",
      "Flutter                1     0       0     0\n",
      "Graphics               0     0       0     1\n",
      "Web Development        1     0       0     0\n"
     ]
    }
   ],
   "source": [
    "print(hg1.return_hypergraph_dataframe())"
   ]
  },
  {
   "cell_type": "code",
   "execution_count": 187,
   "id": "ceb07d01",
   "metadata": {},
   "outputs": [
    {
     "name": "stdout",
     "output_type": "stream",
     "text": [
      "Checking vertex  DSA\n",
      "Internal vertex  CP\n",
      "Uncoloed\n",
      "Internal vertex  Machine Learning\n",
      "Uncoloed\n",
      "Internal vertex  Flutter\n",
      "Uncoloed\n",
      "Internal vertex  Graphics\n",
      "Uncoloed\n",
      "appending\n",
      "Internal vertex  Web Development\n",
      "Uncoloed\n",
      "[4]\n",
      "\n",
      "Checking vertex  CP\n",
      "Internal vertex  Machine Learning\n",
      "Uncoloed\n",
      "Internal vertex  Flutter\n",
      "Uncoloed\n",
      "appending\n",
      "Internal vertex  Graphics\n",
      "colored\n",
      "Internal vertex  Web Development\n",
      "Uncoloed\n",
      "appending\n",
      "[3, 5]\n",
      "\n",
      "Checking vertex  Machine Learning\n",
      "Internal vertex  Flutter\n",
      "colored\n",
      "Internal vertex  Graphics\n",
      "colored\n",
      "Internal vertex  Web Development\n",
      "Uncoloed\n",
      "appending\n",
      "[5]\n",
      "\n",
      "Checking vertex  Flutter\n",
      "Checking vertex  Graphics\n",
      "Checking vertex  Web Development\n"
     ]
    }
   ],
   "source": [
    "## Performing coloring operation for given hypergraph\n",
    "proper_coloring(hg1)"
   ]
  },
  {
   "cell_type": "code",
   "execution_count": 188,
   "id": "054437f2",
   "metadata": {},
   "outputs": [
    {
     "name": "stdout",
     "output_type": "stream",
     "text": [
      "           Vertices  Colors\n",
      "0               DSA       1\n",
      "1                CP       2\n",
      "2  Machine Learning       3\n",
      "3           Flutter       2\n",
      "4          Graphics       1\n",
      "5   Web Development       3\n"
     ]
    }
   ],
   "source": [
    "## Prnting vertex-vise colors\n",
    "print(hg1.return_vertex_wise_colors())"
   ]
  },
  {
   "cell_type": "code",
   "execution_count": 189,
   "id": "c34d6955",
   "metadata": {},
   "outputs": [
    {
     "data": {
      "text/plain": [
       "3"
      ]
     },
     "execution_count": 189,
     "metadata": {},
     "output_type": "execute_result"
    }
   ],
   "source": [
    "## Checking Chromatic number\n",
    "hg1.return_chromatic_number()"
   ]
  },
  {
   "cell_type": "code",
   "execution_count": 190,
   "id": "42a8997b",
   "metadata": {},
   "outputs": [
    {
     "name": "stdout",
     "output_type": "stream",
     "text": [
      "           Vertices  Timings(am)\n",
      "0               DSA            9\n",
      "1                CP           10\n",
      "2  Machine Learning           11\n",
      "3           Flutter           10\n",
      "4          Graphics            9\n",
      "5   Web Development           11\n"
     ]
    }
   ],
   "source": [
    "## If we provide starting time of the day, this function provides best way to schedule all the lectures.\n",
    "## Let starting time be 9am.\n",
    "\n",
    "print(lecture_timings(hg1, 9))"
   ]
  },
  {
   "cell_type": "code",
   "execution_count": 191,
   "id": "a440b603",
   "metadata": {},
   "outputs": [],
   "source": [
    "## Therefore, we have finished all the lectures in three slots."
   ]
  }
 ],
 "metadata": {
  "kernelspec": {
   "display_name": "Python 3 (ipykernel)",
   "language": "python",
   "name": "python3"
  },
  "language_info": {
   "codemirror_mode": {
    "name": "ipython",
    "version": 3
   },
   "file_extension": ".py",
   "mimetype": "text/x-python",
   "name": "python",
   "nbconvert_exporter": "python",
   "pygments_lexer": "ipython3",
   "version": "3.9.5"
  }
 },
 "nbformat": 4,
 "nbformat_minor": 5
}
