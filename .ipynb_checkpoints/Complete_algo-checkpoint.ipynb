{
 "cells": [
  {
   "cell_type": "code",
   "execution_count": 68,
   "id": "e9cae3ce",
   "metadata": {},
   "outputs": [],
   "source": [
    "import numpy as np\n",
    "import pandas as pd"
   ]
  },
  {
   "cell_type": "code",
   "execution_count": 69,
   "id": "74dd58d1",
   "metadata": {},
   "outputs": [],
   "source": [
    "class Hypergraph:\n",
    "    def __init__(self, v, e, vertex_names, edge_names, hg_matrix, colors_used_yet, sorted_status, colors_used_list, coloring_completed, latest_vertex):\n",
    "        self.vertices = v\n",
    "        self.edges = e\n",
    "        self.vertex_names_list = vertex_names\n",
    "        self.edge_names_list = edge_names\n",
    "        self.colors_used = colors_used_yet\n",
    "        self.sorted_status = sorted_status\n",
    "        self.hypergraph_matrix = hg_matrix\n",
    "        self.vertex_degrees = []\n",
    "        self.colors_list = colors_used_list\n",
    "        self.vertex_indices = []\n",
    "        ongoing_color = False\n",
    "        graph_coloring_completed = coloring_completed\n",
    "        self.curr_color = colors_used_yet\n",
    "        self.latest_colored_vertex = 0\n",
    "        \n",
    "        self.color_pointer = 0\n",
    "        self.current_color_vertices = []\n",
    "        \n",
    "        \n",
    "        \n",
    "        for i in range (v):\n",
    "            self.vertex_indices.append(i)\n",
    "            \n",
    "            \n",
    "    def return_hypergraph_matrix(self):\n",
    "        return self.hypergraph_matrix\n",
    "    \n",
    "    def return_vertex_names(self):\n",
    "        return self.vertex_names_list\n",
    "    \n",
    "    def return_edge_names(self):\n",
    "        return self.edge_names_list\n",
    "    \n",
    "    def return_colors_list(self):\n",
    "        return self.colors_list\n",
    "    \n",
    "    def return_degrees_list(self):\n",
    "        return self.vertex_degrees\n",
    "    \n",
    "    def return_entire_hypergraph(self):\n",
    "        return self.vertices, self.edges, self.sorted_status, self.vertex_indices, self.vertex_names_list , self.vertex_names_list, self.edge_names_list, self.colors_list, self.hypergraph_matrix\n",
    "    \n",
    "    def return_if_sorted(self):\n",
    "        return self.sorted_status\n",
    "    \n",
    "    def return_vertex_name(self, index):\n",
    "        return self.vertex_names_list[index]\n",
    "    \n",
    "    def return_hypergraph_dataframe(self):\n",
    "        df = pd.DataFrame()\n",
    "        data = self.hypergraph_matrix\n",
    "        df = pd.DataFrame(data, columns = self.edge_names_list, index = self.vertex_names_list) \n",
    "        return df\n",
    "    \n",
    "    def return_degree_of_vertex(self, index):\n",
    "        degree = 0\n",
    "        for value in range(self.edges):\n",
    "            if (self.hypergraph_matrix[index][value]):\n",
    "                degree +=1\n",
    "        return degree\n",
    "    \n",
    "    def store_degrees_of_all(self):\n",
    "        for vertex in range(self.vertices):\n",
    "            self.vertex_degrees.append(self.return_degree_of_vertex(vertex))\n",
    "            \n",
    "    def claim_sorted(self):\n",
    "        # Externally Declare the hypergraph to be sorted.\n",
    "        self.sorted_status = True\n",
    "    \n",
    "    def is_vertex_colored(self, vertex_i):\n",
    "        if(self.colors_list[vertex_i] == -1):\n",
    "            return False\n",
    "        else:\n",
    "            return True;\n",
    "        \n",
    "    def assign_color(self, vertex_i, color):\n",
    "        self.colors_list[vertex_i] = color\n",
    "        \n",
    "    def dot_prod(self, v_i, v_j):\n",
    "        l1=self.hypergraph_matrix[v_i]\n",
    "        l2=self.hypergraph_matrix[v_j]\n",
    "        \n",
    "        dot_product = 0\n",
    "        \n",
    "        for edge_val in range(self.edges):\n",
    "            dot_product += self.hypergraph_matrix[v_i][edge_val] * self.hypergraph_matrix[v_j][edge_val]\n",
    "        return dot_product\n",
    "    \n",
    "    def return_chromatic_number(self):\n",
    "        if(self.graph_coloring_completed):\n",
    "            return self.colors_used\n",
    "        else:\n",
    "            ## Graph uncolored\n",
    "            return -1\n",
    "        \n",
    "    def return_vertex_wise_colors(self):\n",
    "        data = { \"vertices\":self.vertex_names_list, \"Colors\" :self.colors_list }\n",
    "        df = pd.DataFrame(data)\n",
    "        return df\n",
    "        \n",
    "        \n",
    "        \n",
    "        \n",
    "    \n",
    "        \n",
    "            \n",
    "    \n",
    "    \n",
    "    \n",
    "            \n",
    "        \n",
    "    \n"
   ]
  },
  {
   "cell_type": "code",
   "execution_count": 70,
   "id": "24b1abec",
   "metadata": {},
   "outputs": [],
   "source": [
    "## Beautify his print statement by storing the values returned by the return-entire function and printing it properly\n",
    "def print_hypergraph(hg):\n",
    "    print(hg.return_entire_hypergraph())"
   ]
  },
  {
   "cell_type": "code",
   "execution_count": 71,
   "id": "5acfd81b",
   "metadata": {},
   "outputs": [],
   "source": [
    "def repeatable_list(hg):\n",
    "    uncolored =[]\n",
    "    for vertex in range(hg.vertices):\n",
    "        if(not hg.is_vertex_colored(vertex)):\n",
    "            uncolored.append(vertex)\n",
    "            \n",
    "    #print()\n",
    "            \n",
    "    rep_list = []\n",
    "    \n",
    "    for vertex in uncolored:\n",
    "        flag = True\n",
    "        for vertex2 in hg.current_color_vertices:\n",
    "            if(hg.dot_prod(vertex,vertex2) != 0):\n",
    "                flag = False\n",
    "                break\n",
    "        if(flag == True):\n",
    "            rep_list.append(vertex)\n",
    "            \n",
    "    return rep_list\n",
    "            \n",
    "        \n",
    "        \n",
    "        "
   ]
  },
  {
   "cell_type": "code",
   "execution_count": 72,
   "id": "62196a88",
   "metadata": {},
   "outputs": [
    {
     "data": {
      "text/plain": [
       "'def proper_coloring_new(hg):\\n    \\n    if(hg.ongoing_color == False):\\n        \\n        \\n    elif(hg.ongoing_color == True):\\n    \\n'"
      ]
     },
     "execution_count": 72,
     "metadata": {},
     "output_type": "execute_result"
    }
   ],
   "source": [
    "\"\"\"def proper_coloring_new(hg):\n",
    "    \n",
    "    if(hg.ongoing_color == False):\n",
    "        \n",
    "        \n",
    "    elif(hg.ongoing_color == True):\n",
    "    \n",
    "\"\"\"\n",
    "    "
   ]
  },
  {
   "cell_type": "code",
   "execution_count": 73,
   "id": "607df62f",
   "metadata": {},
   "outputs": [],
   "source": [
    "def proper_coloring(hg):\n",
    "    if(hg.sorted_status == False):\n",
    "        hg.claim_sorted();\n",
    "    \n",
    "    for vertex_i in range(hg.vertices):\n",
    "        ##print(hg.hypergraph_matrix[vertex_i])\n",
    "        print(\"Checking vertex \", hg.return_vertex_name(vertex_i))\n",
    "        if(hg.is_vertex_colored(vertex_i) == False):\n",
    "            hg.colors_used += 1\n",
    "            hg.assign_color(vertex_i, hg.colors_used)\n",
    "            \n",
    "            ##Now looking for repeatables:\n",
    "            \n",
    "            repeatable_list = []\n",
    "            for vertex_j in range(vertex_i+1, hg.vertices):\n",
    "                print(\"Internal vertex \", hg.return_vertex_name(vertex_j))\n",
    "                if (hg.is_vertex_colored(vertex_j) == False):\n",
    "                    print(\"Uncolored\")\n",
    "                    \n",
    "                    ## Checking if compatible\n",
    "                    if(hg.dot_prod(vertex_i, vertex_j) == 0):\n",
    "                        print(\"appending\")\n",
    "                        repeatable_list.append(vertex_j)\n",
    "                        \n",
    "                        \n",
    "                else:\n",
    "                    print(\"colored\")\n",
    "        \n",
    "        \n",
    "            print(repeatable_list)\n",
    "            print()\n",
    "        \n",
    "            if(len(repeatable_list) == 1):\n",
    "                next_vertex = repeatable_list[0]\n",
    "                hg1.assign_color(next_vertex, hg1.colors_used)\n",
    "            \n",
    "            elif(len(repeatable_list) > 1):\n",
    "                \n",
    "                print(\"Multiple paths\")\n",
    "                \n",
    "                \n",
    "               \n",
    "                next_vertex = repeatable_list[0]\n",
    "                hg1.assign_color(next_vertex, hg1.colors_used)\n",
    "                \n",
    "    hg.graph_coloring_completed = True\n",
    "            \n",
    "                    \n",
    "                \n",
    "            \n",
    "            \n",
    "            \n",
    "            \n",
    "        "
   ]
  },
  {
   "cell_type": "code",
   "execution_count": 74,
   "id": "b2d149cf",
   "metadata": {},
   "outputs": [],
   "source": [
    "hypergraph_matrix = [[1,1,1,0], [0,1,1,0],[0,0,1,1], [1,0,0,0], [0,0,0,1], [1,0,0,0]]\n",
    "number_vertices = 6\n",
    "number_edges = 4\n",
    "vertex_names = [\"DSA\", \"CP\", \"Machine Learning\", \"Flutter\", \"Graphics\", \"Web Development\"]\n",
    "edge_names = [\"Aditya\", \"Yash\", \"Siddhi\", \"Amay\"]"
   ]
  },
  {
   "cell_type": "code",
   "execution_count": null,
   "id": "2376e24b",
   "metadata": {},
   "outputs": [],
   "source": []
  },
  {
   "cell_type": "code",
   "execution_count": 75,
   "id": "9891be76",
   "metadata": {},
   "outputs": [],
   "source": [
    "hg1=Hypergraph(number_vertices, number_edges, vertex_names, edge_names, hypergraph_matrix, 0, False, [-1,-1,-1,-1,-1,-1], False, -1)"
   ]
  },
  {
   "cell_type": "code",
   "execution_count": 76,
   "id": "24e8863c",
   "metadata": {},
   "outputs": [
    {
     "name": "stdout",
     "output_type": "stream",
     "text": [
      "(6, 4, False, [0, 1, 2, 3, 4, 5], ['DSA', 'CP', 'Machine Learning', 'Flutter', 'Graphics', 'Web Development'], ['DSA', 'CP', 'Machine Learning', 'Flutter', 'Graphics', 'Web Development'], ['Aditya', 'Yash', 'Siddhi', 'Amay'], [-1, -1, -1, -1, -1, -1], [[1, 1, 1, 0], [0, 1, 1, 0], [0, 0, 1, 1], [1, 0, 0, 0], [0, 0, 0, 1], [1, 0, 0, 0]])\n"
     ]
    }
   ],
   "source": [
    "print_hypergraph(hg1)"
   ]
  },
  {
   "cell_type": "code",
   "execution_count": 77,
   "id": "3ce9fc0a",
   "metadata": {},
   "outputs": [
    {
     "name": "stdout",
     "output_type": "stream",
     "text": [
      "                  Aditya  Yash  Siddhi  Amay\n",
      "DSA                    1     1       1     0\n",
      "CP                     0     1       1     0\n",
      "Machine Learning       0     0       1     1\n",
      "Flutter                1     0       0     0\n",
      "Graphics               0     0       0     1\n",
      "Web Development        1     0       0     0\n"
     ]
    }
   ],
   "source": [
    "print(hg1.return_hypergraph_dataframe())"
   ]
  },
  {
   "cell_type": "code",
   "execution_count": null,
   "id": "0c1847ab",
   "metadata": {},
   "outputs": [],
   "source": [
    "hg1.current_color_vertices = [2,4]\n",
    "\n",
    "print(repeatable_list(hg1))"
   ]
  }
 ],
 "metadata": {
  "kernelspec": {
   "display_name": "Python 3 (ipykernel)",
   "language": "python",
   "name": "python3"
  },
  "language_info": {
   "codemirror_mode": {
    "name": "ipython",
    "version": 3
   },
   "file_extension": ".py",
   "mimetype": "text/x-python",
   "name": "python",
   "nbconvert_exporter": "python",
   "pygments_lexer": "ipython3",
   "version": "3.9.5"
  }
 },
 "nbformat": 4,
 "nbformat_minor": 5
}
