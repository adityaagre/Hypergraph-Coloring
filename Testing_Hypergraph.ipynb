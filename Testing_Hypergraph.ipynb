{
 "cells": [
  {
   "cell_type": "code",
   "execution_count": 10,
   "id": "a9af4198-8e26-4c6c-af03-0a12bc6a96e8",
   "metadata": {},
   "outputs": [
    {
     "name": "stdout",
     "output_type": "stream",
     "text": [
      "Chromatic Number: 2\n",
      "Color Assignment: [1, 1, 1, 2, 1, 2]\n"
     ]
    }
   ],
   "source": [
    "def is_safe(vertex, color, coloring, hypergraph_matrix):\n",
    "    for neighbor in range(len(hypergraph_matrix[vertex])):\n",
    "        if hypergraph_matrix[vertex][neighbor] == 1 and neighbor in coloring and coloring[neighbor] == color:\n",
    "            return False\n",
    "    return True\n",
    "\n",
    "def backtrack_coloring(vertex, coloring, hypergraph_matrix, num_colors):\n",
    "    if vertex == len(hypergraph_matrix):\n",
    "        return True \n",
    "\n",
    "    for color in range(1, num_colors + 1):\n",
    "        if is_safe(vertex, color, coloring, hypergraph_matrix):\n",
    "            coloring[vertex] = color\n",
    "\n",
    "            if backtrack_coloring(vertex + 1, coloring, hypergraph_matrix, num_colors):\n",
    "                return True\n",
    "\n",
    "            coloring[vertex] = 0 \n",
    "\n",
    "    return False\n",
    "\n",
    "def hypergraph_chromatic_number(hypergraph_matrix):\n",
    "    num_vertices = len(hypergraph_matrix)\n",
    "    \n",
    "    for num_colors in range(1, num_vertices + 1):\n",
    "        coloring = [0] * num_vertices\n",
    "        if backtrack_coloring(0, coloring, hypergraph_matrix, num_colors):\n",
    "            return num_colors, coloring\n",
    "\n",
    "    return float('inf'), None  \n",
    "\n",
    "hypergraph_matrix = [[1,1,1,0], [0,1,1,0],[0,0,1,1], [1,0,0,0], [0,0,0,1], [1,0,0,0]]\n",
    "# hypergraph_matrix = [\n",
    "#     [1, 1, 1, 0, 0],\n",
    "#     [0, 1, 0, 1, 0],\n",
    "#     [0, 0, 1, 1, 1]\n",
    "# ]\n",
    "\n",
    "chromatic_number, color_assignment = hypergraph_chromatic_number(hypergraph_matrix)\n",
    "\n",
    "print(\"Chromatic Number:\", chromatic_number)\n",
    "print(\"Color Assignment:\", color_assignment)\n"
   ]
  },
  {
   "cell_type": "code",
   "execution_count": null,
   "id": "82b5fd47-093b-40ee-b3b8-d58b03ee9911",
   "metadata": {},
   "outputs": [],
   "source": []
  },
  {
   "cell_type": "code",
   "execution_count": null,
   "id": "79087304-ca43-4a4f-8aa7-7771a7fe9645",
   "metadata": {},
   "outputs": [],
   "source": []
  }
 ],
 "metadata": {
  "kernelspec": {
   "display_name": "Python 3 (ipykernel)",
   "language": "python",
   "name": "python3"
  },
  "language_info": {
   "codemirror_mode": {
    "name": "ipython",
    "version": 3
   },
   "file_extension": ".py",
   "mimetype": "text/x-python",
   "name": "python",
   "nbconvert_exporter": "python",
   "pygments_lexer": "ipython3",
   "version": "3.11.5"
  }
 },
 "nbformat": 4,
 "nbformat_minor": 5
}
