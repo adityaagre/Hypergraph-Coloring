{
 "cells": [
  {
   "cell_type": "code",
   "execution_count": 274,
   "id": "3f97d188",
   "metadata": {},
   "outputs": [],
   "source": [
    "import numpy as np\n",
    "import pandas as pd"
   ]
  },
  {
   "cell_type": "code",
   "execution_count": 275,
   "id": "e8e2c186",
   "metadata": {},
   "outputs": [],
   "source": [
    "class Hypergraph:\n",
    "    def __init__(self, v, e, vertex_names, edge_names, hg_matrix):\n",
    "        self.vertices = v\n",
    "        self.edges = e\n",
    "        self.vertex_names_list = vertex_names\n",
    "        self.edge_names_list = edge_names\n",
    "        self.colors_used = 0\n",
    "        self.sorted_status = False\n",
    "        self.hypergraph_matrix = hg_matrix\n",
    "        self.vertex_degrees = []\n",
    "        self.colors_list = []\n",
    "        self.vertex_indices = []\n",
    "        \n",
    "        for i in range (v):\n",
    "            self.colors_list.append(-1) \n",
    "            self.vertex_indices.append(i)\n",
    "            \n",
    "            \n",
    "    def return_hypergraph_matrix(self):\n",
    "        return self.hypergraph_matrix\n",
    "    \n",
    "    def return_vertex_names(self):\n",
    "        return self.vertex_names_list\n",
    "    \n",
    "    def return_edge_names(self):\n",
    "        return self.edge_names_list\n",
    "    \n",
    "    def return_colors_list(self):\n",
    "        return self.colors_list\n",
    "    \n",
    "    def return_degrees_list(self):\n",
    "        return self.vertex_degrees\n",
    "    \n",
    "    def return_entire_hypergraph(self):\n",
    "        return self.vertices, self.edges, self.sorted_status, self.vertex_indices, self.vertex_names_list , self.vertex_names_list, self.edge_names_list, self.colors_list, self.hypergraph_matrix\n",
    "    \n",
    "    def return_if_sorted(self):\n",
    "        return self.sorted_status\n",
    "    \n",
    "    def return_vertex_name(self, index):\n",
    "        return self.vertex_names_list[index]\n",
    "    \n",
    "    def return_hypergraph_dataframe(self):\n",
    "        df = pd.DataFrame()\n",
    "        data = self.hypergraph_matrix\n",
    "        df = pd.DataFrame(data, columns = self.edge_names_list, index = self.vertex_names_list) \n",
    "        return df\n",
    "    \n",
    "    def return_degree_of_vertex(self, index):\n",
    "        degree = 0\n",
    "        for value in range(self.edges):\n",
    "            if (self.hypergraph_matrix[index][value]):\n",
    "                degree +=1\n",
    "        return degree\n",
    "    \n",
    "    def store_degrees_of_all(self):\n",
    "        for vertex in range(self.vertices):\n",
    "            self.vertex_degrees.append(self.return_degree_of_vertex(vertex))\n",
    "    \n",
    "    \n",
    "            \n",
    "        \n",
    "    \n"
   ]
  },
  {
   "cell_type": "code",
   "execution_count": 276,
   "id": "6b221817",
   "metadata": {},
   "outputs": [],
   "source": [
    "hypergraph_matrix = [[1,1,1,0], [0,1,1,0],[0,0,1,1], [1,0,0,0], [0,0,0,1], [1,0,0,0]]\n",
    "number_vertices = 6\n",
    "number_edges = 4\n",
    "vertex_names = [\"DSA\", \"CP\", \"Machine Learning\", \"Flutter\", \"Graphics\", \"Web Development\"]\n",
    "edge_names = [\"Aditya\", \"Yash\", \"Siddhi\", \"Amay\"]"
   ]
  },
  {
   "cell_type": "code",
   "execution_count": null,
   "id": "d5763deb",
   "metadata": {},
   "outputs": [],
   "source": []
  },
  {
   "cell_type": "code",
   "execution_count": 277,
   "id": "67587c43",
   "metadata": {},
   "outputs": [],
   "source": [
    "hg1=Hypergraph(number_vertices, number_edges, vertex_names, edge_names, hypergraph_matrix)"
   ]
  },
  {
   "cell_type": "code",
   "execution_count": 278,
   "id": "036933e3",
   "metadata": {},
   "outputs": [
    {
     "name": "stdout",
     "output_type": "stream",
     "text": [
      "[[1, 1, 1, 0], [0, 1, 1, 0], [0, 0, 1, 1], [1, 0, 0, 0], [0, 0, 0, 1], [1, 0, 0, 0]]\n"
     ]
    }
   ],
   "source": [
    "print(hg1.return_hypergraph_matrix())"
   ]
  },
  {
   "cell_type": "code",
   "execution_count": 279,
   "id": "a806eafd",
   "metadata": {},
   "outputs": [
    {
     "name": "stdout",
     "output_type": "stream",
     "text": [
      "['DSA', 'CP', 'Machine Learning', 'Flutter', 'Graphics', 'Web Development']\n"
     ]
    }
   ],
   "source": [
    "print(hg1.return_vertex_names())"
   ]
  },
  {
   "cell_type": "code",
   "execution_count": 280,
   "id": "0b17a4b4",
   "metadata": {},
   "outputs": [
    {
     "name": "stdout",
     "output_type": "stream",
     "text": [
      "['Aditya', 'Yash', 'Siddhi', 'Amay']\n"
     ]
    }
   ],
   "source": [
    "print(hg1.return_edge_names())"
   ]
  },
  {
   "cell_type": "code",
   "execution_count": 281,
   "id": "21865a49",
   "metadata": {},
   "outputs": [
    {
     "name": "stdout",
     "output_type": "stream",
     "text": [
      "[-1, -1, -1, -1, -1, -1]\n"
     ]
    }
   ],
   "source": [
    "print(hg1.return_colors_list())"
   ]
  },
  {
   "cell_type": "code",
   "execution_count": 282,
   "id": "90afa913",
   "metadata": {},
   "outputs": [
    {
     "name": "stdout",
     "output_type": "stream",
     "text": [
      "False\n"
     ]
    }
   ],
   "source": [
    "print(hg1.return_if_sorted())"
   ]
  },
  {
   "cell_type": "code",
   "execution_count": 283,
   "id": "18dab952",
   "metadata": {},
   "outputs": [
    {
     "name": "stdout",
     "output_type": "stream",
     "text": [
      "(6, 4, False, [0, 1, 2, 3, 4, 5], ['DSA', 'CP', 'Machine Learning', 'Flutter', 'Graphics', 'Web Development'], ['DSA', 'CP', 'Machine Learning', 'Flutter', 'Graphics', 'Web Development'], ['Aditya', 'Yash', 'Siddhi', 'Amay'], [-1, -1, -1, -1, -1, -1], [[1, 1, 1, 0], [0, 1, 1, 0], [0, 0, 1, 1], [1, 0, 0, 0], [0, 0, 0, 1], [1, 0, 0, 0]])\n"
     ]
    }
   ],
   "source": [
    "print(hg1.return_entire_hypergraph())"
   ]
  },
  {
   "cell_type": "code",
   "execution_count": 284,
   "id": "2c9de299",
   "metadata": {},
   "outputs": [
    {
     "name": "stdout",
     "output_type": "stream",
     "text": [
      "Flutter\n"
     ]
    }
   ],
   "source": [
    "print(hg1.return_vertex_name(3))"
   ]
  },
  {
   "cell_type": "code",
   "execution_count": 285,
   "id": "acc96124",
   "metadata": {},
   "outputs": [
    {
     "name": "stdout",
     "output_type": "stream",
     "text": [
      "[0, 1, 2, 3, 4, 5]\n"
     ]
    }
   ],
   "source": [
    "print(hg1.vertex_indices)"
   ]
  },
  {
   "cell_type": "code",
   "execution_count": 286,
   "id": "a4d90f81",
   "metadata": {},
   "outputs": [
    {
     "name": "stdout",
     "output_type": "stream",
     "text": [
      "                  Aditya  Yash  Siddhi  Amay\n",
      "DSA                    1     1       1     0\n",
      "CP                     0     1       1     0\n",
      "Machine Learning       0     0       1     1\n",
      "Flutter                1     0       0     0\n",
      "Graphics               0     0       0     1\n",
      "Web Development        1     0       0     0\n"
     ]
    }
   ],
   "source": [
    "print(hg1.return_hypergraph_dataframe())"
   ]
  },
  {
   "cell_type": "code",
   "execution_count": null,
   "id": "7a5fd98f",
   "metadata": {},
   "outputs": [],
   "source": []
  },
  {
   "cell_type": "code",
   "execution_count": 287,
   "id": "e677f549",
   "metadata": {},
   "outputs": [
    {
     "name": "stdout",
     "output_type": "stream",
     "text": [
      "3\n"
     ]
    }
   ],
   "source": [
    "print(hg1.return_degree_of_vertex(0))"
   ]
  },
  {
   "cell_type": "code",
   "execution_count": 288,
   "id": "659d56d6",
   "metadata": {},
   "outputs": [
    {
     "name": "stdout",
     "output_type": "stream",
     "text": [
      "[3, 2, 2, 1, 1, 1]\n"
     ]
    }
   ],
   "source": [
    "hg1.store_degrees_of_all()\n",
    "print(hg1.return_degrees_list())"
   ]
  },
  {
   "cell_type": "code",
   "execution_count": null,
   "id": "6aeced39",
   "metadata": {},
   "outputs": [],
   "source": []
  },
  {
   "cell_type": "code",
   "execution_count": null,
   "id": "40df9ce6",
   "metadata": {},
   "outputs": [],
   "source": []
  },
  {
   "cell_type": "code",
   "execution_count": null,
   "id": "90abbf83",
   "metadata": {},
   "outputs": [],
   "source": []
  }
 ],
 "metadata": {
  "kernelspec": {
   "display_name": "Python 3 (ipykernel)",
   "language": "python",
   "name": "python3"
  },
  "language_info": {
   "codemirror_mode": {
    "name": "ipython",
    "version": 3
   },
   "file_extension": ".py",
   "mimetype": "text/x-python",
   "name": "python",
   "nbconvert_exporter": "python",
   "pygments_lexer": "ipython3",
   "version": "3.9.5"
  }
 },
 "nbformat": 4,
 "nbformat_minor": 5
}
