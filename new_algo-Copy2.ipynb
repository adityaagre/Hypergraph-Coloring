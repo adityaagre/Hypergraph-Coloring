{
 "cells": [
  {
   "cell_type": "code",
   "execution_count": 1,
   "id": "e9cae3ce",
   "metadata": {},
   "outputs": [],
   "source": [
    "import numpy as np\n",
    "import pandas as pd"
   ]
  },
  {
   "cell_type": "code",
   "execution_count": 22,
   "id": "74dd58d1",
   "metadata": {},
   "outputs": [],
   "source": [
    "class Hypergraph:\n",
    "    def __init__(self, v, e, vertex_names, edge_names, hg_matrix):\n",
    "        self.vertices = v\n",
    "        self.edges = e\n",
    "        self.vertex_names_list = vertex_names\n",
    "        self.edge_names_list = edge_names\n",
    "        self.colors_used = 0\n",
    "        self.sorted_status = False\n",
    "        self.hypergraph_matrix = hg_matrix\n",
    "        self.vertex_degrees = []\n",
    "        self.colors_list = []\n",
    "        self.vertex_indices = []\n",
    "        graph_coloring_completed = False\n",
    "        \n",
    "        for i in range (v):\n",
    "            self.colors_list.append(-1) \n",
    "            self.vertex_indices.append(i)\n",
    "            \n",
    "            \n",
    "    def return_hypergraph_matrix(self):\n",
    "        return self.hypergraph_matrix\n",
    "    \n",
    "    def return_vertex_names(self):\n",
    "        return self.vertex_names_list\n",
    "    \n",
    "    def return_edge_names(self):\n",
    "        return self.edge_names_list\n",
    "    \n",
    "    def return_colors_list(self):\n",
    "        return self.colors_list\n",
    "    \n",
    "    def return_degrees_list(self):\n",
    "        return self.vertex_degrees\n",
    "    \n",
    "    def return_entire_hypergraph(self):\n",
    "        return self.vertices, self.edges, self.sorted_status, self.vertex_indices, self.vertex_names_list , self.vertex_names_list, self.edge_names_list, self.colors_list, self.hypergraph_matrix\n",
    "    \n",
    "    def return_if_sorted(self):\n",
    "        return self.sorted_status\n",
    "    \n",
    "    def return_vertex_name(self, index):\n",
    "        return self.vertex_names_list[index]\n",
    "    \n",
    "    def return_hypergraph_dataframe(self):\n",
    "        df = pd.DataFrame()\n",
    "        data = self.hypergraph_matrix\n",
    "        df = pd.DataFrame(data, columns = self.edge_names_list, index = self.vertex_names_list) \n",
    "        return df\n",
    "    \n",
    "    def return_degree_of_vertex(self, index):\n",
    "        degree = 0\n",
    "        for value in range(self.edges):\n",
    "            if (self.hypergraph_matrix[index][value]):\n",
    "                degree +=1\n",
    "        return degree\n",
    "    \n",
    "    def store_degrees_of_all(self):\n",
    "        for vertex in range(self.vertices):\n",
    "            self.vertex_degrees.append(self.return_degree_of_vertex(vertex))\n",
    "            \n",
    "    def claim_sorted(self):\n",
    "        # Externally Declare the hypergraph to be sorted.\n",
    "        self.sorted_status = True\n",
    "    \n",
    "    def is_vertex_colored(self, vertex_i):\n",
    "        if(self.colors_list[vertex_i] == -1):\n",
    "            return False\n",
    "        else:\n",
    "            return True;\n",
    "        \n",
    "    def assign_color(self, vertex_i, color):\n",
    "        self.colors_list[vertex_i] = color\n",
    "        \n",
    "    def dot_prod(self, v_i, v_j):\n",
    "        l1=self.hypergraph_matrix[v_i]\n",
    "        l2=self.hypergraph_matrix[v_j]\n",
    "        \n",
    "        dot_product = 0\n",
    "        \n",
    "        for edge_val in range(self.edges):\n",
    "            dot_product += self.hypergraph_matrix[v_i][edge_val] * self.hypergraph_matrix[v_j][edge_val]\n",
    "        return dot_product\n",
    "    \n",
    "    def return_chromatic_number(self):\n",
    "        return self.colors_used\n",
    "    \n",
    "    \n",
    "#     def return_chromatic_number(self):\n",
    "#         if(self.graph_coloring_completed):\n",
    "#             return self.colors_used\n",
    "#         else:\n",
    "#             ## Graph uncolored\n",
    "#             return -1\n",
    "\n",
    "        \n",
    "    \n",
    "    def return_vertex_wise_colors(self):\n",
    "        \n",
    "        \n",
    "        data = { \"vertices\":self.vertex_names_list, \"Colors\" :self.colors_list }\n",
    "        df = pd.DataFrame(data)\n",
    "        return df\n",
    "        \n",
    "        \n",
    "        \n",
    "        \n",
    "    \n",
    "        \n",
    "            \n",
    "    \n",
    "    \n",
    "    \n",
    "            \n",
    "        \n",
    "    \n"
   ]
  },
  {
   "cell_type": "code",
   "execution_count": 23,
   "id": "24b1abec",
   "metadata": {},
   "outputs": [],
   "source": [
    "## Beautify his print statement by storing the values returned by the return-entire function and printing it properly\n",
    "def print_hypergraph(hg):\n",
    "    print(hg.return_entire_hypergraph())"
   ]
  },
  {
   "cell_type": "code",
   "execution_count": 24,
   "id": "0fd3f477",
   "metadata": {},
   "outputs": [],
   "source": [
    "def proper_coloring_new(hg):\n",
    "    if(hg.sorted_status == False):\n",
    "        hg.claim_sorted();\n",
    "    \n",
    "    for vertex_i in range(hg.vertices):\n",
    "        ##print(hg.hypergraph_matrix[vertex_i])\n",
    "        ## print(\"Checking vertex \", hg.return_vertex_name(vertex_i))\n",
    "        if(hg.is_vertex_colored(vertex_i) == False):\n",
    "            hg.colors_used += 1\n",
    "            hg.assign_color(vertex_i, hg.colors_used)\n",
    "            current_colour_list = []\n",
    "            current_colour_list.append(vertex_i)\n",
    "            \n",
    "            ##Now looking for repeatables:\n",
    "            \n",
    "            for vertex_j in range(vertex_i+1, hg.vertices):\n",
    "                ## print(\"Internal vertex \", hg.return_vertex_name(vertex_j))\n",
    "                if (hg.is_vertex_colored(vertex_j) == False):\n",
    "                    ## print(\"Uncolored.\")\n",
    "                    for verticess in current_colour_list:\n",
    "                        repeatable_flag = True\n",
    "                        if hg.dot_prod(verticess, vertex_j) != 0:\n",
    "                            repeatable_flag = False\n",
    "                            break\n",
    "                    if repeatable_flag:\n",
    "                        hg.assign_color(vertex_j, hg.colors_used)      \n",
    "                        current_colour_list.append(vertex_j)\n"
   ]
  },
  {
   "cell_type": "code",
   "execution_count": 25,
   "id": "f162c2ea",
   "metadata": {},
   "outputs": [],
   "source": [
    "hypergraph_matrix = [[1,1,1,0], [0,1,1,0],[0,0,1,1], [1,0,0,0], [0,0,0,1], [1,0,0,0]]\n",
    "number_vertices = 6\n",
    "number_edges = 4\n",
    "vertex_names = [\"DSA\", \"CP\", \"Machine Learning\", \"Flutter\", \"Graphics\", \"Web Development\"]\n",
    "edge_names = [\"Aditya\", \"Yash\", \"Siddhi\", \"Amay\"]"
   ]
  },
  {
   "cell_type": "code",
   "execution_count": 26,
   "id": "ae6cfb5a",
   "metadata": {},
   "outputs": [],
   "source": [
    "hg1=Hypergraph(number_vertices, number_edges, vertex_names, edge_names, hypergraph_matrix)"
   ]
  },
  {
   "cell_type": "code",
   "execution_count": 27,
   "id": "8710c41d",
   "metadata": {},
   "outputs": [],
   "source": [
    "proper_coloring_new(hg1)"
   ]
  },
  {
   "cell_type": "code",
   "execution_count": 28,
   "id": "13afe4d7",
   "metadata": {},
   "outputs": [
    {
     "name": "stdout",
     "output_type": "stream",
     "text": [
      "                  Aditya  Yash  Siddhi  Amay\n",
      "DSA                    1     1       1     0\n",
      "CP                     0     1       1     0\n",
      "Machine Learning       0     0       1     1\n",
      "Flutter                1     0       0     0\n",
      "Graphics               0     0       0     1\n",
      "Web Development        1     0       0     0\n"
     ]
    }
   ],
   "source": [
    "print(hg1.return_hypergraph_dataframe())"
   ]
  },
  {
   "cell_type": "code",
   "execution_count": 29,
   "id": "a7bb4bca",
   "metadata": {},
   "outputs": [
    {
     "name": "stdout",
     "output_type": "stream",
     "text": [
      "           vertices  Colors\n",
      "0               DSA       1\n",
      "1                CP       2\n",
      "2  Machine Learning       3\n",
      "3           Flutter       2\n",
      "4          Graphics       1\n",
      "5   Web Development       3\n"
     ]
    }
   ],
   "source": [
    "print(hg1.return_vertex_wise_colors())"
   ]
  },
  {
   "cell_type": "code",
   "execution_count": 30,
   "id": "dc5db049",
   "metadata": {},
   "outputs": [
    {
     "name": "stdout",
     "output_type": "stream",
     "text": [
      "<__main__.Hypergraph object at 0x1100ad210>\n"
     ]
    }
   ],
   "source": [
    "print(hg1)"
   ]
  },
  {
   "cell_type": "code",
   "execution_count": 59,
   "id": "0e3889e6",
   "metadata": {},
   "outputs": [],
   "source": [
    "import csv\n",
    "import pandas as pd\n",
    "\n",
    "\n",
    "def dump_to_csv(matrix, parameter1, parameter2, name):\n",
    "    df_new_for_store = pd.DataFrame(list())\n",
    "    df_new_for_store.to_csv(name)\n",
    "\n",
    "    #filename='coloring_result1.csv'\n",
    "    filename = name\n",
    "    with open(filename, mode='a', newline='') as file:\n",
    "        writer = csv.writer(file)\n",
    "        for row in matrix:\n",
    "            writer.writerow(row)\n",
    "        writer.writerow(parameter1)\n",
    "        writer.writerow([parameter2])\n",
    "        "
   ]
  },
  {
   "cell_type": "code",
   "execution_count": 60,
   "id": "ace4239a",
   "metadata": {},
   "outputs": [],
   "source": [
    "def test_for_list(list_of_hypergraph_matrices, file_name):\n",
    "    for hg_matrix in list_of_hypergraph_matrices:\n",
    "        no_vertices = len(hg_matrix)\n",
    "        no_edges = len(hg_matrix[0])\n",
    "        vertex_names = [\"Vertex\"+str(i) for i in range(1, no_vertices+1)]\n",
    "        edge_names = [\"Edge\"+str(i) for i in range(1, no_edges+1)]\n",
    "        hg_local = Hypergraph(no_vertices, no_edges, vertex_names, edge_names, hg_matrix)\n",
    "\n",
    "        proper_coloring_new(hg_local)\n",
    "        \n",
    "        coloring_list = hg_local.return_vertex_wise_colors()[\"Colors\"]\n",
    "        \n",
    "        print((coloring_list))\n",
    "        X = hg_local.return_chromatic_number()\n",
    "        \n",
    "        \n",
    "        dump_to_csv(hg_matrix, coloring_list, X, file_name)\n",
    "    "
   ]
  },
  {
   "cell_type": "code",
   "execution_count": 61,
   "id": "0569ed79",
   "metadata": {},
   "outputs": [
    {
     "ename": "TypeError",
     "evalue": "test_for_list() missing 1 required positional argument: 'file_name'",
     "output_type": "error",
     "traceback": [
      "\u001b[0;31m---------------------------------------------------------------------------\u001b[0m",
      "\u001b[0;31mTypeError\u001b[0m                                 Traceback (most recent call last)",
      "Cell \u001b[0;32mIn[61], line 1\u001b[0m\n\u001b[0;32m----> 1\u001b[0m test_for_list([[[\u001b[38;5;241m1\u001b[39m,\u001b[38;5;241m1\u001b[39m,\u001b[38;5;241m1\u001b[39m,\u001b[38;5;241m0\u001b[39m], [\u001b[38;5;241m0\u001b[39m,\u001b[38;5;241m1\u001b[39m,\u001b[38;5;241m1\u001b[39m,\u001b[38;5;241m0\u001b[39m],[\u001b[38;5;241m0\u001b[39m,\u001b[38;5;241m0\u001b[39m,\u001b[38;5;241m1\u001b[39m,\u001b[38;5;241m1\u001b[39m], [\u001b[38;5;241m1\u001b[39m,\u001b[38;5;241m0\u001b[39m,\u001b[38;5;241m0\u001b[39m,\u001b[38;5;241m0\u001b[39m], [\u001b[38;5;241m0\u001b[39m,\u001b[38;5;241m0\u001b[39m,\u001b[38;5;241m0\u001b[39m,\u001b[38;5;241m1\u001b[39m], [\u001b[38;5;241m1\u001b[39m,\u001b[38;5;241m0\u001b[39m,\u001b[38;5;241m0\u001b[39m,\u001b[38;5;241m0\u001b[39m], [\u001b[38;5;241m1\u001b[39m,\u001b[38;5;241m0\u001b[39m,\u001b[38;5;241m0\u001b[39m,\u001b[38;5;241m0\u001b[39m], [\u001b[38;5;241m1\u001b[39m,\u001b[38;5;241m1\u001b[39m,\u001b[38;5;241m1\u001b[39m,\u001b[38;5;241m1\u001b[39m]]])\n",
      "\u001b[0;31mTypeError\u001b[0m: test_for_list() missing 1 required positional argument: 'file_name'"
     ]
    }
   ],
   "source": [
    "test_for_list([[[1,1,1,0], [0,1,1,0],[0,0,1,1], [1,0,0,0], [0,0,0,1], [1,0,0,0], [1,0,0,0], [1,1,1,1]]])"
   ]
  },
  {
   "cell_type": "code",
   "execution_count": 62,
   "id": "da92bc49",
   "metadata": {},
   "outputs": [
    {
     "name": "stdout",
     "output_type": "stream",
     "text": [
      "0    1\n",
      "1    2\n",
      "2    3\n",
      "3    4\n",
      "4    5\n",
      "5    6\n",
      "6    7\n",
      "7    1\n",
      "Name: Colors, dtype: int64\n",
      "0    1\n",
      "1    2\n",
      "2    3\n",
      "3    4\n",
      "4    5\n",
      "5    6\n",
      "6    7\n",
      "7    8\n",
      "Name: Colors, dtype: int64\n",
      "0    1\n",
      "1    2\n",
      "2    3\n",
      "3    4\n",
      "4    5\n",
      "5    6\n",
      "6    7\n",
      "7    2\n",
      "Name: Colors, dtype: int64\n",
      "0    1\n",
      "1    2\n",
      "2    3\n",
      "3    1\n",
      "4    4\n",
      "5    5\n",
      "6    6\n",
      "7    4\n",
      "Name: Colors, dtype: int64\n",
      "0    1\n",
      "1    1\n",
      "2    2\n",
      "3    3\n",
      "4    2\n",
      "5    4\n",
      "6    5\n",
      "7    6\n",
      "Name: Colors, dtype: int64\n",
      "0    1\n",
      "1    2\n",
      "2    3\n",
      "3    3\n",
      "4    4\n",
      "5    5\n",
      "6    6\n",
      "7    2\n",
      "Name: Colors, dtype: int64\n",
      "0    1\n",
      "1    2\n",
      "2    1\n",
      "3    3\n",
      "4    4\n",
      "5    5\n",
      "6    6\n",
      "7    2\n",
      "Name: Colors, dtype: int64\n",
      "0    1\n",
      "1    1\n",
      "2    2\n",
      "3    2\n",
      "4    3\n",
      "5    1\n",
      "6    3\n",
      "7    4\n",
      "Name: Colors, dtype: int64\n",
      "0    1\n",
      "1    1\n",
      "2    2\n",
      "3    3\n",
      "4    4\n",
      "5    5\n",
      "6    6\n",
      "7    7\n",
      "Name: Colors, dtype: int64\n",
      "0    1\n",
      "1    1\n",
      "2    2\n",
      "3    3\n",
      "4    4\n",
      "5    5\n",
      "6    6\n",
      "7    1\n",
      "Name: Colors, dtype: int64\n"
     ]
    }
   ],
   "source": [
    "# test1\n",
    "test_list_1 = [\n",
    "    [[0,1,1,1], [1,0,1,1],[1,1,0,0], [0,1,1,1], [1,1,1,0], [0,1,1,1], [0,1,1,1], [0,0,0,0]],\n",
    "    [[1,0,1,1], [1,1,0,1],[0,1,0,1], [1,0,1,1], [1,1,0,0], [1,0,1,1], [1,0,1,1], [1,0,0,1]],\n",
    "    [[0,0,1,1], [1,0,0,1],[1,1,1,0], [0,1,0,1], [1,0,0,1], [0,1,0,1], [0,1,0,1], [0,0,1,0]],\n",
    "    [[1,1,0,0], [0,1,0,1],[1,1,1,1], [0,0,1,0], [0,1,0,0], [1,1,0,0], [1,1,0,0], [1,0,1,1]],\n",
    "    [[0,0,0,1], [1,1,1,0],[0,1,0,0], [1,1,0,1], [0,0,1,0], [1,1,0,1], [1,1,0,1], [0,0,1,1]],\n",
    "    [[1,1,1,0], [0,0,1,1],[1,0,0,1], [0,1,1,0], [1,1,1,1], [0,1,1,0], [0,1,1,0], [1,0,0,0]],\n",
    "    [[0,1,0,0], [1,1,0,0],[0,0,1,1], [1,1,1,1], [0,1,1,0], [1,1,1,1], [1,1,1,1], [0,0,0,1]],\n",
    "    [[1,0,0,0], [0,1,1,0],[0,1,0,0], [1,0,0,1], [1,0,0,0], [0,0,0,1], [0,0,0,1], [1,1,0,0]],\n",
    "    [[0,1,0,1], [1,0,0,0],[0,1,1,1], [0,1,0,1], [1,0,1,1], [0,1,0,1], [0,1,0,1], [1,1,1,0]],\n",
    "    [[1,0,1,0], [0,1,0,0],[1,0,1,1], [1,1,0,0], [0,1,1,1], [1,1,0,0], [1,1,0,0], [0,0,0,1]]\n",
    "]\n",
    "test_for_list(test_list_1, \"TEST1\")"
   ]
  },
  {
   "cell_type": "code",
   "execution_count": null,
   "id": "668cef20",
   "metadata": {},
   "outputs": [],
   "source": []
  },
  {
   "cell_type": "code",
   "execution_count": null,
   "id": "b2164257",
   "metadata": {},
   "outputs": [],
   "source": []
  }
 ],
 "metadata": {
  "kernelspec": {
   "display_name": "Python 3 (ipykernel)",
   "language": "python",
   "name": "python3"
  },
  "language_info": {
   "codemirror_mode": {
    "name": "ipython",
    "version": 3
   },
   "file_extension": ".py",
   "mimetype": "text/x-python",
   "name": "python",
   "nbconvert_exporter": "python",
   "pygments_lexer": "ipython3",
   "version": "3.11.5"
  }
 },
 "nbformat": 4,
 "nbformat_minor": 5
}
